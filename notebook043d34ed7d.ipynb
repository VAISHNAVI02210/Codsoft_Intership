{
  "metadata": {
    "kernelspec": {
      "language": "python",
      "display_name": "Python 3",
      "name": "python3"
    },
    "language_info": {
      "name": "python",
      "version": "3.10.12",
      "mimetype": "text/x-python",
      "codemirror_mode": {
        "name": "ipython",
        "version": 3
      },
      "pygments_lexer": "ipython3",
      "nbconvert_exporter": "python",
      "file_extension": ".py"
    },
    "kaggle": {
      "accelerator": "none",
      "dataSources": [
        {
          "sourceId": 23498,
          "sourceType": "datasetVersion",
          "datasetId": 310
        }
      ],
      "dockerImageVersionId": 30839,
      "isInternetEnabled": false,
      "language": "python",
      "sourceType": "notebook",
      "isGpuEnabled": false
    },
    "colab": {
      "name": "notebook043d34ed7d",
      "provenance": [],
      "include_colab_link": true
    }
  },
  "nbformat_minor": 0,
  "nbformat": 4,
  "cells": [
    {
      "cell_type": "markdown",
      "metadata": {
        "id": "view-in-github",
        "colab_type": "text"
      },
      "source": [
        "<a href=\"https://colab.research.google.com/github/VAISHNAVI02210/Codsoft_Intership/blob/main/notebook043d34ed7d.ipynb\" target=\"_parent\"><img src=\"https://colab.research.google.com/assets/colab-badge.svg\" alt=\"Open In Colab\"/></a>"
      ]
    },
    {
      "cell_type": "markdown",
      "source": [
        "**CODSOFT INTERNSHIP**\n",
        "\n",
        "TASK - 5 : CREDIT CARD FRAUD DETECTION\n",
        "\n",
        "Author : Vaishnavi kale\n",
        "\n",
        "Domain : Data Science\n",
        "\n",
        "Batch : december 25\n",
        "\n",
        "**AIM**\n",
        "\n",
        "The aim of this project is to build a machine learning model to detect fraudulent credit card transactions. By analyzing transaction data, the project identifies patterns that distinguish fraud from legitimate activity. Key steps include data preprocessing, balancing the dataset, and training a Random Forest classifier. The model's performance is evaluated using metrics like accuracy and precision. This system aims to enhance fraud detection, reduce financial losses, and improve transaction security."
      ],
      "metadata": {
        "id": "4S2JbwaUxcEK"
      }
    },
    {
      "cell_type": "code",
      "source": [
        "# Import required libraries\n",
        "import pandas as pd\n",
        "import numpy as np\n",
        "import matplotlib.pyplot as plt\n",
        "import seaborn as sns\n",
        "from sklearn.model_selection import train_test_split\n",
        "from sklearn.preprocessing import StandardScaler\n",
        "from sklearn.ensemble import RandomForestClassifier\n",
        "from sklearn.metrics import classification_report, confusion_matrix, accuracy_score"
      ],
      "metadata": {
        "trusted": true,
        "execution": {
          "iopub.status.busy": "2025-01-15T16:01:01.911318Z",
          "iopub.execute_input": "2025-01-15T16:01:01.9116Z",
          "iopub.status.idle": "2025-01-15T16:01:05.713632Z",
          "shell.execute_reply.started": "2025-01-15T16:01:01.911575Z",
          "shell.execute_reply": "2025-01-15T16:01:05.71229Z"
        },
        "id": "OOV417cuw9uy"
      },
      "outputs": [],
      "execution_count": null
    },
    {
      "cell_type": "code",
      "source": [
        "# Load the dataset\n",
        "data = pd.read_csv('/kaggle/input/creditcardfraud/creditcard.csv')\n",
        "\n",
        "# Display basic dataset information\n",
        "print(\"Dataset Information:\")\n",
        "data.info()\n",
        "print(\"\\nFirst 5 Rows:\")\n",
        "\n"
      ],
      "metadata": {
        "trusted": true,
        "execution": {
          "iopub.status.busy": "2025-01-15T16:09:41.664144Z",
          "iopub.execute_input": "2025-01-15T16:09:41.664542Z",
          "iopub.status.idle": "2025-01-15T16:09:46.693253Z",
          "shell.execute_reply.started": "2025-01-15T16:09:41.664515Z",
          "shell.execute_reply": "2025-01-15T16:09:46.691964Z"
        },
        "id": "xU-mD7V2w9u0",
        "outputId": "138e03f6-fa31-4ec5-d417-0990df3850b2"
      },
      "outputs": [
        {
          "name": "stdout",
          "text": "Dataset Information:\n<class 'pandas.core.frame.DataFrame'>\nRangeIndex: 284807 entries, 0 to 284806\nData columns (total 31 columns):\n #   Column  Non-Null Count   Dtype  \n---  ------  --------------   -----  \n 0   Time    284807 non-null  float64\n 1   V1      284807 non-null  float64\n 2   V2      284807 non-null  float64\n 3   V3      284807 non-null  float64\n 4   V4      284807 non-null  float64\n 5   V5      284807 non-null  float64\n 6   V6      284807 non-null  float64\n 7   V7      284807 non-null  float64\n 8   V8      284807 non-null  float64\n 9   V9      284807 non-null  float64\n 10  V10     284807 non-null  float64\n 11  V11     284807 non-null  float64\n 12  V12     284807 non-null  float64\n 13  V13     284807 non-null  float64\n 14  V14     284807 non-null  float64\n 15  V15     284807 non-null  float64\n 16  V16     284807 non-null  float64\n 17  V17     284807 non-null  float64\n 18  V18     284807 non-null  float64\n 19  V19     284807 non-null  float64\n 20  V20     284807 non-null  float64\n 21  V21     284807 non-null  float64\n 22  V22     284807 non-null  float64\n 23  V23     284807 non-null  float64\n 24  V24     284807 non-null  float64\n 25  V25     284807 non-null  float64\n 26  V26     284807 non-null  float64\n 27  V27     284807 non-null  float64\n 28  V28     284807 non-null  float64\n 29  Amount  284807 non-null  float64\n 30  Class   284807 non-null  int64  \ndtypes: float64(30), int64(1)\nmemory usage: 67.4 MB\n\nFirst 5 Rows:\n",
          "output_type": "stream"
        }
      ],
      "execution_count": null
    },
    {
      "cell_type": "code",
      "source": [
        "print(data.head())"
      ],
      "metadata": {
        "trusted": true,
        "execution": {
          "iopub.status.busy": "2025-01-15T16:13:41.378732Z",
          "iopub.execute_input": "2025-01-15T16:13:41.379192Z",
          "iopub.status.idle": "2025-01-15T16:13:41.404456Z",
          "shell.execute_reply.started": "2025-01-15T16:13:41.379162Z",
          "shell.execute_reply": "2025-01-15T16:13:41.403289Z"
        },
        "id": "Vn7kfbv3w9u2",
        "outputId": "66854623-3a8b-4707-f9cb-5e5f1442e89b"
      },
      "outputs": [
        {
          "name": "stdout",
          "text": "   Time        V1        V2        V3        V4        V5        V6        V7  \\\n0   0.0 -1.359807 -0.072781  2.536347  1.378155 -0.338321  0.462388  0.239599   \n1   0.0  1.191857  0.266151  0.166480  0.448154  0.060018 -0.082361 -0.078803   \n2   1.0 -1.358354 -1.340163  1.773209  0.379780 -0.503198  1.800499  0.791461   \n3   1.0 -0.966272 -0.185226  1.792993 -0.863291 -0.010309  1.247203  0.237609   \n4   2.0 -1.158233  0.877737  1.548718  0.403034 -0.407193  0.095921  0.592941   \n\n         V8        V9  ...       V21       V22       V23       V24       V25  \\\n0  0.098698  0.363787  ... -0.018307  0.277838 -0.110474  0.066928  0.128539   \n1  0.085102 -0.255425  ... -0.225775 -0.638672  0.101288 -0.339846  0.167170   \n2  0.247676 -1.514654  ...  0.247998  0.771679  0.909412 -0.689281 -0.327642   \n3  0.377436 -1.387024  ... -0.108300  0.005274 -0.190321 -1.175575  0.647376   \n4 -0.270533  0.817739  ... -0.009431  0.798278 -0.137458  0.141267 -0.206010   \n\n        V26       V27       V28  Amount  Class  \n0 -0.189115  0.133558 -0.021053  149.62      0  \n1  0.125895 -0.008983  0.014724    2.69      0  \n2 -0.139097 -0.055353 -0.059752  378.66      0  \n3 -0.221929  0.062723  0.061458  123.50      0  \n4  0.502292  0.219422  0.215153   69.99      0  \n\n[5 rows x 31 columns]\n",
          "output_type": "stream"
        }
      ],
      "execution_count": null
    },
    {
      "cell_type": "code",
      "source": [
        "# Check class distribution\n",
        "print(\"\\nClass Distribution:\")\n",
        "print(data['Class'].value_counts())\n",
        "\n",
        "# Visualize class distribution\n",
        "plt.figure(figsize=(6, 4))\n",
        "sns.countplot(x='Class', data=data)\n",
        "plt.title('Class Distribution')\n",
        "plt.show()\n"
      ],
      "metadata": {
        "trusted": true,
        "execution": {
          "iopub.status.busy": "2025-01-15T16:13:54.379115Z",
          "iopub.execute_input": "2025-01-15T16:13:54.379471Z",
          "iopub.status.idle": "2025-01-15T16:13:54.733189Z",
          "shell.execute_reply.started": "2025-01-15T16:13:54.379442Z",
          "shell.execute_reply": "2025-01-15T16:13:54.732206Z"
        },
        "id": "MtScI4NNw9u4",
        "outputId": "0a257afe-efbc-41a2-9460-d862af617d17"
      },
      "outputs": [
        {
          "name": "stdout",
          "text": "\nClass Distribution:\nClass\n0    284315\n1       492\nName: count, dtype: int64\n",
          "output_type": "stream"
        },
        {
          "output_type": "display_data",
          "data": {
            "text/plain": "<Figure size 600x400 with 1 Axes>",
            "image/png": "[encoded data removed]"
          },
          "metadata": {}
        }
      ],
      "execution_count": null
    },
    {
      "cell_type": "code",
      "source": [
        "# Standardize 'Time' and 'Amount' columns\n",
        "scaler = StandardScaler()\n",
        "data[['Time', 'Amount']] = scaler.fit_transform(data[['Time', 'Amount']])\n",
        "\n",
        "# Separate features and target variable\n",
        "X = data.drop(columns=['Class'])\n",
        "y = data['Class']\n",
        "\n"
      ],
      "metadata": {
        "trusted": true,
        "execution": {
          "iopub.status.busy": "2025-01-15T16:14:37.664288Z",
          "iopub.execute_input": "2025-01-15T16:14:37.664663Z",
          "iopub.status.idle": "2025-01-15T16:14:37.726019Z",
          "shell.execute_reply.started": "2025-01-15T16:14:37.664627Z",
          "shell.execute_reply": "2025-01-15T16:14:37.724729Z"
        },
        "id": "-w6NtYFPw9u6"
      },
      "outputs": [],
      "execution_count": null
    },
    {
      "cell_type": "code",
      "source": [
        "# Balance the dataset (undersampling)\n",
        "fraud = data[data['Class'] == 1]\n",
        "non_fraud = data[data['Class'] == 0].sample(len(fraud), random_state=42)\n",
        "balanced_data = pd.concat([fraud, non_fraud])\n",
        "\n",
        "# Split balanced data into features and target\n",
        "X_balanced = balanced_data.drop(columns=['Class'])\n",
        "y_balanced = balanced_data['Class']\n"
      ],
      "metadata": {
        "trusted": true,
        "execution": {
          "iopub.status.busy": "2025-01-15T16:15:42.98449Z",
          "iopub.execute_input": "2025-01-15T16:15:42.984909Z",
          "iopub.status.idle": "2025-01-15T16:15:43.068933Z",
          "shell.execute_reply.started": "2025-01-15T16:15:42.984877Z",
          "shell.execute_reply": "2025-01-15T16:15:43.067324Z"
        },
        "id": "oaIIkD26w9u_"
      },
      "outputs": [],
      "execution_count": null
    },
    {
      "cell_type": "code",
      "source": [
        "# Train-test split\n",
        "X_train, X_test, y_train, y_test = train_test_split(\n",
        "    X_balanced, y_balanced, test_size=0.2, random_state=42, stratify=y_balanced\n",
        ")\n"
      ],
      "metadata": {
        "trusted": true,
        "execution": {
          "iopub.status.busy": "2025-01-15T16:16:11.019439Z",
          "iopub.execute_input": "2025-01-15T16:16:11.019909Z",
          "iopub.status.idle": "2025-01-15T16:16:11.033709Z",
          "shell.execute_reply.started": "2025-01-15T16:16:11.019864Z",
          "shell.execute_reply": "2025-01-15T16:16:11.03212Z"
        },
        "id": "cN1Sw2zNw9vB"
      },
      "outputs": [],
      "execution_count": null
    },
    {
      "cell_type": "code",
      "source": [
        "# Train a Random Forest classifier\n",
        "rf_classifier = RandomForestClassifier(random_state=42)\n",
        "rf_classifier.fit(X_train, y_train)\n"
      ],
      "metadata": {
        "trusted": true,
        "execution": {
          "iopub.status.busy": "2025-01-15T16:16:32.945503Z",
          "iopub.execute_input": "2025-01-15T16:16:32.946135Z",
          "iopub.status.idle": "2025-01-15T16:16:33.396803Z",
          "shell.execute_reply.started": "2025-01-15T16:16:32.946085Z",
          "shell.execute_reply": "2025-01-15T16:16:33.394703Z"
        },
        "id": "W41Obeo_w9vE",
        "outputId": "65f6dee5-d4aa-4757-b717-bd2e4e9826e3"
      },
      "outputs": [
        {
          "execution_count": 12,
          "output_type": "execute_result",
          "data": {
            "text/plain": "RandomForestClassifier(random_state=42)",
            "text/html": "<style>#sk-container-id-1 {color: black;background-color: white;}#sk-container-id-1 pre{padding: 0;}#sk-container-id-1 div.sk-toggleable {background-color: white;}#sk-container-id-1 label.sk-toggleable__label {cursor: pointer;display: block;width: 100%;margin-bottom: 0;padding: 0.3em;box-sizing: border-box;text-align: center;}#sk-container-id-1 label.sk-toggleable__label-arrow:before {content: \"▸\";float: left;margin-right: 0.25em;color: #696969;}#sk-container-id-1 label.sk-toggleable__label-arrow:hover:before {color: black;}#sk-container-id-1 div.sk-estimator:hover label.sk-toggleable__label-arrow:before {color: black;}#sk-container-id-1 div.sk-toggleable__content {max-height: 0;max-width: 0;overflow: hidden;text-align: left;background-color: #f0f8ff;}#sk-container-id-1 div.sk-toggleable__content pre {margin: 0.2em;color: black;border-radius: 0.25em;background-color: #f0f8ff;}#sk-container-id-1 input.sk-toggleable__control:checked~div.sk-toggleable__content {max-height: 200px;max-width: 100%;overflow: auto;}#sk-container-id-1 input.sk-toggleable__control:checked~label.sk-toggleable__label-arrow:before {content: \"▾\";}#sk-container-id-1 div.sk-estimator input.sk-toggleable__control:checked~label.sk-toggleable__label {background-color: #d4ebff;}#sk-container-id-1 div.sk-label input.sk-toggleable__control:checked~label.sk-toggleable__label {background-color: #d4ebff;}#sk-container-id-1 input.sk-hidden--visually {border: 0;clip: rect(1px 1px 1px 1px);clip: rect(1px, 1px, 1px, 1px);height: 1px;margin: -1px;overflow: hidden;padding: 0;position: absolute;width: 1px;}#sk-container-id-1 div.sk-estimator {font-family: monospace;background-color: #f0f8ff;border: 1px dotted black;border-radius: 0.25em;box-sizing: border-box;margin-bottom: 0.5em;}#sk-container-id-1 div.sk-estimator:hover {background-color: #d4ebff;}#sk-container-id-1 div.sk-parallel-item::after {content: \"\";width: 100%;border-bottom: 1px solid gray;flex-grow: 1;}#sk-container-id-1 div.sk-label:hover label.sk-toggleable__label {background-color: #d4ebff;}#sk-container-id-1 div.sk-serial::before {content: \"\";position: absolute;border-left: 1px solid gray;box-sizing: border-box;top: 0;bottom: 0;left: 50%;z-index: 0;}#sk-container-id-1 div.sk-serial {display: flex;flex-direction: column;align-items: center;background-color: white;padding-right: 0.2em;padding-left: 0.2em;position: relative;}#sk-container-id-1 div.sk-item {position: relative;z-index: 1;}#sk-container-id-1 div.sk-parallel {display: flex;align-items: stretch;justify-content: center;background-color: white;position: relative;}#sk-container-id-1 div.sk-item::before, #sk-container-id-1 div.sk-parallel-item::before {content: \"\";position: absolute;border-left: 1px solid gray;box-sizing: border-box;top: 0;bottom: 0;left: 50%;z-index: -1;}#sk-container-id-1 div.sk-parallel-item {display: flex;flex-direction: column;z-index: 1;position: relative;background-color: white;}#sk-container-id-1 div.sk-parallel-item:first-child::after {align-self: flex-end;width: 50%;}#sk-container-id-1 div.sk-parallel-item:last-child::after {align-self: flex-start;width: 50%;}#sk-container-id-1 div.sk-parallel-item:only-child::after {width: 0;}#sk-container-id-1 div.sk-dashed-wrapped {border: 1px dashed gray;margin: 0 0.4em 0.5em 0.4em;box-sizing: border-box;padding-bottom: 0.4em;background-color: white;}#sk-container-id-1 div.sk-label label {font-family: monospace;font-weight: bold;display: inline-block;line-height: 1.2em;}#sk-container-id-1 div.sk-label-container {text-align: center;}#sk-container-id-1 div.sk-container {/* jupyter's `normalize.less` sets `[hidden] { display: none; }` but bootstrap.min.css set `[hidden] { display: none !important; }` so we also need the `!important` here to be able to override the default hidden behavior on the sphinx rendered scikit-learn.org. See: https://github.com/scikit-learn/scikit-learn/issues/21755 */display: inline-block !important;position: relative;}#sk-container-id-1 div.sk-text-repr-fallback {display: none;}</style><div id=\"sk-container-id-1\" class=\"sk-top-container\"><div class=\"sk-text-repr-fallback\"><pre>RandomForestClassifier(random_state=42)</pre><b>In a Jupyter environment, please rerun this cell to show the HTML representation or trust the notebook. <br />On GitHub, the HTML representation is unable to render, please try loading this page with nbviewer.org.</b></div><div class=\"sk-container\" hidden><div class=\"sk-item\"><div class=\"sk-estimator sk-toggleable\"><input class=\"sk-toggleable__control sk-hidden--visually\" id=\"sk-estimator-id-1\" type=\"checkbox\" checked><label for=\"sk-estimator-id-1\" class=\"sk-toggleable__label sk-toggleable__label-arrow\">RandomForestClassifier</label><div class=\"sk-toggleable__content\"><pre>RandomForestClassifier(random_state=42)</pre></div></div></div></div></div>"
          },
          "metadata": {}
        }
      ],
      "execution_count": null
    },
    {
      "cell_type": "code",
      "source": [
        "# Make predictions\n",
        "y_pred = rf_classifier.predict(X_test)\n"
      ],
      "metadata": {
        "trusted": true,
        "execution": {
          "iopub.status.busy": "2025-01-15T16:17:03.863863Z",
          "iopub.execute_input": "2025-01-15T16:17:03.864322Z",
          "iopub.status.idle": "2025-01-15T16:17:03.882125Z",
          "shell.execute_reply.started": "2025-01-15T16:17:03.864288Z",
          "shell.execute_reply": "2025-01-15T16:17:03.880932Z"
        },
        "id": "elQq_fn2w9vF"
      },
      "outputs": [],
      "execution_count": null
    },
    {
      "cell_type": "code",
      "source": [
        "# Evaluate the model\n",
        "conf_matrix = confusion_matrix(y_test, y_pred)\n",
        "class_report = classification_report(y_test, y_pred)\n",
        "accuracy = accuracy_score(y_test, y_pred)\n",
        "\n",
        "# Print results\n",
        "print(\"\\nConfusion Matrix:\")\n",
        "print(conf_matrix)\n",
        "\n",
        "print(\"\\nClassification Report:\")\n",
        "print(class_report)\n",
        "\n",
        "print(\"\\nAccuracy Score: {:.2f}%\".format(accuracy * 100))\n"
      ],
      "metadata": {
        "trusted": true,
        "execution": {
          "iopub.status.busy": "2025-01-15T16:17:34.073964Z",
          "iopub.execute_input": "2025-01-15T16:17:34.074385Z",
          "iopub.status.idle": "2025-01-15T16:17:34.097037Z",
          "shell.execute_reply.started": "2025-01-15T16:17:34.074357Z",
          "shell.execute_reply": "2025-01-15T16:17:34.095885Z"
        },
        "id": "kMWTQqBHw9vF",
        "outputId": "8638eb58-4041-47f5-9eec-99c41892b62b"
      },
      "outputs": [
        {
          "name": "stdout",
          "text": "\nConfusion Matrix:\n[[96  3]\n [ 6 92]]\n\nClassification Report:\n              precision    recall  f1-score   support\n\n           0       0.94      0.97      0.96        99\n           1       0.97      0.94      0.95        98\n\n    accuracy                           0.95       197\n   macro avg       0.95      0.95      0.95       197\nweighted avg       0.95      0.95      0.95       197\n\n\nAccuracy Score: 95.43%\n",
          "output_type": "stream"
        }
      ],
      "execution_count": null
    },
    {
      "cell_type": "code",
      "source": [
        "# Visualize the confusion matrix\n",
        "plt.figure(figsize=(6, 4))\n",
        "sns.heatmap(conf_matrix, annot=True, fmt=\"d\", cmap=\"Blues\")\n",
        "plt.title(\"Confusion Matrix\")\n",
        "plt.xlabel(\"Predicted\")\n",
        "plt.ylabel(\"Actual\")\n",
        "plt.show()\n"
      ],
      "metadata": {
        "trusted": true,
        "execution": {
          "iopub.status.busy": "2025-01-15T16:17:59.345416Z",
          "iopub.execute_input": "2025-01-15T16:17:59.345787Z",
          "iopub.status.idle": "2025-01-15T16:17:59.562828Z",
          "shell.execute_reply.started": "2025-01-15T16:17:59.345756Z",
          "shell.execute_reply": "2025-01-15T16:17:59.561185Z"
        },
        "id": "tFDi7qhhw9vG",
        "outputId": "b6877ca9-2ddf-434e-8ebb-67d8403d0bb0"
      },
      "outputs": [
        {
          "output_type": "display_data",
          "data": {
            "text/plain": "<Figure size 600x400 with 2 Axes>",
            "image/png": "[encoded data removed]"
          },
          "metadata": {}
        }
      ],
      "execution_count": null
    }
  ]
}