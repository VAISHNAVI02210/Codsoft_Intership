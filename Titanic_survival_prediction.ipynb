{
  "metadata": {
    "kernelspec": {
      "language": "python",
      "display_name": "Python 3",
      "name": "python3"
    },
    "language_info": {
      "name": "python",
      "version": "3.10.12",
      "mimetype": "text/x-python",
      "codemirror_mode": {
        "name": "ipython",
        "version": 3
      },
      "pygments_lexer": "ipython3",
      "nbconvert_exporter": "python",
      "file_extension": ".py"
    },
    "kaggle": {
      "accelerator": "none",
      "dataSources": [
        {
          "sourceId": 2965537,
          "sourceType": "datasetVersion",
          "datasetId": 1818188
        }
      ],
      "dockerImageVersionId": 30822,
      "isInternetEnabled": false,
      "language": "python",
      "sourceType": "notebook",
      "isGpuEnabled": false
    },
    "colab": {
      "name": "Titanic survival prediction",
      "provenance": [],
      "include_colab_link": true
    }
  },
  "nbformat_minor": 0,
  "nbformat": 4,
  "cells": [
    {
      "cell_type": "markdown",
      "metadata": {
        "id": "view-in-github",
        "colab_type": "text"
      },
      "source": [
        "<a href=\"https://colab.research.google.com/github/VAISHNAVI02210/Codsoft_Intership/blob/main/Titanic_survival_prediction.ipynb\" target=\"_parent\"><img src=\"https://colab.research.google.com/assets/colab-badge.svg\" alt=\"Open In Colab\"/></a>"
      ]
    },
    {
      "cell_type": "markdown",
      "source": [
        "**CODSOFT INTERNSHIP**\n",
        "\n",
        "TASK - 1 : Titanic Survival Prediction\n",
        "\n",
        "Author : vaishnavi kale\n",
        "\n",
        "Domain : Data Science\n",
        "\n",
        "Batch : december 25\n",
        "\n",
        "# AIM\n",
        "\n",
        "The aim of the Titanic Survival Prediction project using data science is to develop a predictive model that accurately predicts the survival chances of passengers aboard the Titanic based on various features such as age, gender, passenger class, and others. By applying machine learning algorithms, data preprocessing, and feature engineering, this project seeks to analyze and understand the factors contributing to survival rates, and provide insights into the patterns and trends that affected survival outcomes during the Titanic disaster. The ultimate goal is to create a reliable classification model that can predict the likelihood of survival for new, unseen data."
      ],
      "metadata": {
        "id": "8eSzF4xQY-k6"
      }
    },
    {
      "cell_type": "code",
      "source": [
        "# Import Libraries\n",
        "import pandas as pd\n",
        "import numpy as np\n",
        "import seaborn as sns\n",
        "import matplotlib.pyplot as plt\n",
        "from sklearn.model_selection import train_test_split\n",
        "from sklearn.preprocessing import LabelEncoder, StandardScaler\n",
        "from sklearn.ensemble import RandomForestClassifier\n",
        "from sklearn.metrics import accuracy_score, confusion_matrix, classification_report\n",
        "\n"
      ],
      "metadata": {
        "trusted": true,
        "execution": {
          "iopub.status.busy": "2024-12-24T19:16:48.019263Z",
          "iopub.execute_input": "2024-12-24T19:16:48.019625Z",
          "iopub.status.idle": "2024-12-24T19:16:49.862318Z",
          "shell.execute_reply.started": "2024-12-24T19:16:48.019597Z",
          "shell.execute_reply": "2024-12-24T19:16:49.860959Z"
        },
        "id": "sI3Js7IqX_t1"
      },
      "outputs": [],
      "execution_count": null
    },
    {
      "cell_type": "code",
      "source": [
        "pip install pandas\n"
      ],
      "metadata": {
        "trusted": true,
        "execution": {
          "iopub.status.busy": "2024-12-24T19:17:12.768762Z",
          "iopub.execute_input": "2024-12-24T19:17:12.769282Z",
          "iopub.status.idle": "2024-12-24T19:17:18.299199Z",
          "shell.execute_reply.started": "2024-12-24T19:17:12.769242Z",
          "shell.execute_reply": "2024-12-24T19:17:18.297921Z"
        },
        "id": "NyxqHSDbX_t2",
        "outputId": "4b44b021-51a6-40b8-f56d-3e6a98d23873"
      },
      "outputs": [
        {
          "name": "stdout",
          "text": "Requirement already satisfied: pandas in /usr/local/lib/python3.10/dist-packages (2.1.4)\nRequirement already satisfied: numpy<2,>=1.22.4 in /usr/local/lib/python3.10/dist-packages (from pandas) (1.26.4)\nRequirement already satisfied: python-dateutil>=2.8.2 in /usr/local/lib/python3.10/dist-packages (from pandas) (2.8.2)\nRequirement already satisfied: pytz>=2020.1 in /usr/local/lib/python3.10/dist-packages (from pandas) (2024.2)\nRequirement already satisfied: tzdata>=2022.1 in /usr/local/lib/python3.10/dist-packages (from pandas) (2024.1)\nRequirement already satisfied: six>=1.5 in /usr/local/lib/python3.10/dist-packages (from python-dateutil>=2.8.2->pandas) (1.16.0)\nNote: you may need to restart the kernel to use updated packages.\n",
          "output_type": "stream"
        }
      ],
      "execution_count": null
    },
    {
      "cell_type": "code",
      "source": [
        "import pandas as pd\n",
        "\n",
        "# Load the dataset with the correct file path\n",
        "data = pd.read_csv('/kaggle/input/titanic-dataset/Titanic-Dataset.csv')\n"
      ],
      "metadata": {
        "trusted": true,
        "execution": {
          "iopub.status.busy": "2024-12-24T19:22:41.763743Z",
          "iopub.execute_input": "2024-12-24T19:22:41.76407Z",
          "iopub.status.idle": "2024-12-24T19:22:41.773116Z",
          "shell.execute_reply.started": "2024-12-24T19:22:41.76404Z",
          "shell.execute_reply": "2024-12-24T19:22:41.772238Z"
        },
        "id": "li4YeSRCX_t4"
      },
      "outputs": [],
      "execution_count": null
    },
    {
      "cell_type": "code",
      "source": [
        "# Display the first few rows of the dataset\n",
        "print(\"Dataset preview:\")\n",
        "print(data.head())"
      ],
      "metadata": {
        "trusted": true,
        "execution": {
          "iopub.status.busy": "2024-12-24T19:24:13.639656Z",
          "iopub.execute_input": "2024-12-24T19:24:13.640047Z",
          "iopub.status.idle": "2024-12-24T19:24:13.660409Z",
          "shell.execute_reply.started": "2024-12-24T19:24:13.640016Z",
          "shell.execute_reply": "2024-12-24T19:24:13.659401Z"
        },
        "id": "Dvlyqx7IX_t4",
        "outputId": "d4f16302-cef1-4c3a-8e32-e025eb0545fd"
      },
      "outputs": [
        {
          "name": "stdout",
          "text": "Dataset preview:\n   PassengerId  Survived  Pclass  \\\n0            1         0       3   \n1            2         1       1   \n2            3         1       3   \n3            4         1       1   \n4            5         0       3   \n\n                                                Name     Sex   Age  SibSp  \\\n0                            Braund, Mr. Owen Harris    male  22.0      1   \n1  Cumings, Mrs. John Bradley (Florence Briggs Th...  female  38.0      1   \n2                             Heikkinen, Miss. Laina  female  26.0      0   \n3       Futrelle, Mrs. Jacques Heath (Lily May Peel)  female  35.0      1   \n4                           Allen, Mr. William Henry    male  35.0      0   \n\n   Parch            Ticket     Fare Cabin Embarked  \n0      0         A/5 21171   7.2500   NaN        S  \n1      0          PC 17599  71.2833   C85        C  \n2      0  STON/O2. 3101282   7.9250   NaN        S  \n3      0            113803  53.1000  C123        S  \n4      0            373450   8.0500   NaN        S  \n",
          "output_type": "stream"
        }
      ],
      "execution_count": null
    },
    {
      "cell_type": "code",
      "source": [
        "data.head(10)"
      ],
      "metadata": {
        "trusted": true,
        "execution": {
          "iopub.status.busy": "2024-12-24T19:36:18.849003Z",
          "iopub.execute_input": "2024-12-24T19:36:18.849426Z",
          "iopub.status.idle": "2024-12-24T19:36:18.868428Z",
          "shell.execute_reply.started": "2024-12-24T19:36:18.849381Z",
          "shell.execute_reply": "2024-12-24T19:36:18.867374Z"
        },
        "id": "0jLN3kTRX_t5",
        "outputId": "4e28eed8-812b-47d2-9e7d-51f2c1b78f22"
      },
      "outputs": [
        {
          "execution_count": 13,
          "output_type": "execute_result",
          "data": {
            "text/plain": "   PassengerId  Survived  Pclass  \\\n0            1         0       3   \n1            2         1       1   \n2            3         1       3   \n3            4         1       1   \n4            5         0       3   \n5            6         0       3   \n6            7         0       1   \n7            8         0       3   \n8            9         1       3   \n9           10         1       2   \n\n                                                Name     Sex   Age  SibSp  \\\n0                            Braund, Mr. Owen Harris    male  22.0      1   \n1  Cumings, Mrs. John Bradley (Florence Briggs Th...  female  38.0      1   \n2                             Heikkinen, Miss. Laina  female  26.0      0   \n3       Futrelle, Mrs. Jacques Heath (Lily May Peel)  female  35.0      1   \n4                           Allen, Mr. William Henry    male  35.0      0   \n5                                   Moran, Mr. James    male   NaN      0   \n6                            McCarthy, Mr. Timothy J    male  54.0      0   \n7                     Palsson, Master. Gosta Leonard    male   2.0      3   \n8  Johnson, Mrs. Oscar W (Elisabeth Vilhelmina Berg)  female  27.0      0   \n9                Nasser, Mrs. Nicholas (Adele Achem)  female  14.0      1   \n\n   Parch            Ticket     Fare Cabin Embarked  \n0      0         A/5 21171   7.2500   NaN        S  \n1      0          PC 17599  71.2833   C85        C  \n2      0  STON/O2. 3101282   7.9250   NaN        S  \n3      0            113803  53.1000  C123        S  \n4      0            373450   8.0500   NaN        S  \n5      0            330877   8.4583   NaN        Q  \n6      0             17463  51.8625   E46        S  \n7      1            349909  21.0750   NaN        S  \n8      2            347742  11.1333   NaN        S  \n9      0            237736  30.0708   NaN        C  ",
            "text/html": "<div>\n<style scoped>\n    .dataframe tbody tr th:only-of-type {\n        vertical-align: middle;\n    }\n\n    .dataframe tbody tr th {\n        vertical-align: top;\n    }\n\n    .dataframe thead th {\n        text-align: right;\n    }\n</style>\n<table border=\"1\" class=\"dataframe\">\n  <thead>\n    <tr style=\"text-align: right;\">\n      <th></th>\n      <th>PassengerId</th>\n      <th>Survived</th>\n      <th>Pclass</th>\n      <th>Name</th>\n      <th>Sex</th>\n      <th>Age</th>\n      <th>SibSp</th>\n      <th>Parch</th>\n      <th>Ticket</th>\n      <th>Fare</th>\n      <th>Cabin</th>\n      <th>Embarked</th>\n    </tr>\n  </thead>\n  <tbody>\n    <tr>\n      <th>0</th>\n      <td>1</td>\n      <td>0</td>\n      <td>3</td>\n      <td>Braund, Mr. Owen Harris</td>\n      <td>male</td>\n      <td>22.0</td>\n      <td>1</td>\n      <td>0</td>\n      <td>A/5 21171</td>\n      <td>7.2500</td>\n      <td>NaN</td>\n      <td>S</td>\n    </tr>\n    <tr>\n      <th>1</th>\n      <td>2</td>\n      <td>1</td>\n      <td>1</td>\n      <td>Cumings, Mrs. John Bradley (Florence Briggs Th...</td>\n      <td>female</td>\n      <td>38.0</td>\n      <td>1</td>\n      <td>0</td>\n      <td>PC 17599</td>\n      <td>71.2833</td>\n      <td>C85</td>\n      <td>C</td>\n    </tr>\n    <tr>\n      <th>2</th>\n      <td>3</td>\n      <td>1</td>\n      <td>3</td>\n      <td>Heikkinen, Miss. Laina</td>\n      <td>female</td>\n      <td>26.0</td>\n      <td>0</td>\n      <td>0</td>\n      <td>STON/O2. 3101282</td>\n      <td>7.9250</td>\n      <td>NaN</td>\n      <td>S</td>\n    </tr>\n    <tr>\n      <th>3</th>\n      <td>4</td>\n      <td>1</td>\n      <td>1</td>\n      <td>Futrelle, Mrs. Jacques Heath (Lily May Peel)</td>\n      <td>female</td>\n      <td>35.0</td>\n      <td>1</td>\n      <td>0</td>\n      <td>113803</td>\n      <td>53.1000</td>\n      <td>C123</td>\n      <td>S</td>\n    </tr>\n    <tr>\n      <th>4</th>\n      <td>5</td>\n      <td>0</td>\n      <td>3</td>\n      <td>Allen, Mr. William Henry</td>\n      <td>male</td>\n      <td>35.0</td>\n      <td>0</td>\n      <td>0</td>\n      <td>373450</td>\n      <td>8.0500</td>\n      <td>NaN</td>\n      <td>S</td>\n    </tr>\n    <tr>\n      <th>5</th>\n      <td>6</td>\n      <td>0</td>\n      <td>3</td>\n      <td>Moran, Mr. James</td>\n      <td>male</td>\n      <td>NaN</td>\n      <td>0</td>\n      <td>0</td>\n      <td>330877</td>\n      <td>8.4583</td>\n      <td>NaN</td>\n      <td>Q</td>\n    </tr>\n    <tr>\n      <th>6</th>\n      <td>7</td>\n      <td>0</td>\n      <td>1</td>\n      <td>McCarthy, Mr. Timothy J</td>\n      <td>male</td>\n      <td>54.0</td>\n      <td>0</td>\n      <td>0</td>\n      <td>17463</td>\n      <td>51.8625</td>\n      <td>E46</td>\n      <td>S</td>\n    </tr>\n    <tr>\n      <th>7</th>\n      <td>8</td>\n      <td>0</td>\n      <td>3</td>\n      <td>Palsson, Master. Gosta Leonard</td>\n      <td>male</td>\n      <td>2.0</td>\n      <td>3</td>\n      <td>1</td>\n      <td>349909</td>\n      <td>21.0750</td>\n      <td>NaN</td>\n      <td>S</td>\n    </tr>\n    <tr>\n      <th>8</th>\n      <td>9</td>\n      <td>1</td>\n      <td>3</td>\n      <td>Johnson, Mrs. Oscar W (Elisabeth Vilhelmina Berg)</td>\n      <td>female</td>\n      <td>27.0</td>\n      <td>0</td>\n      <td>2</td>\n      <td>347742</td>\n      <td>11.1333</td>\n      <td>NaN</td>\n      <td>S</td>\n    </tr>\n    <tr>\n      <th>9</th>\n      <td>10</td>\n      <td>1</td>\n      <td>2</td>\n      <td>Nasser, Mrs. Nicholas (Adele Achem)</td>\n      <td>female</td>\n      <td>14.0</td>\n      <td>1</td>\n      <td>0</td>\n      <td>237736</td>\n      <td>30.0708</td>\n      <td>NaN</td>\n      <td>C</td>\n    </tr>\n  </tbody>\n</table>\n</div>"
          },
          "metadata": {}
        }
      ],
      "execution_count": null
    },
    {
      "cell_type": "code",
      "source": [
        "data.describe()"
      ],
      "metadata": {
        "trusted": true,
        "execution": {
          "iopub.status.busy": "2024-12-24T19:38:26.42906Z",
          "iopub.execute_input": "2024-12-24T19:38:26.429458Z",
          "iopub.status.idle": "2024-12-24T19:38:26.460852Z",
          "shell.execute_reply.started": "2024-12-24T19:38:26.429426Z",
          "shell.execute_reply": "2024-12-24T19:38:26.459777Z"
        },
        "id": "e95r89iiX_t6",
        "outputId": "727019b7-24b6-41ea-b63f-c626029727d8"
      },
      "outputs": [
        {
          "execution_count": 16,
          "output_type": "execute_result",
          "data": {
            "text/plain": "       PassengerId    Survived      Pclass         Age       SibSp  \\\ncount   891.000000  891.000000  891.000000  714.000000  891.000000   \nmean    446.000000    0.383838    2.308642   29.699118    0.523008   \nstd     257.353842    0.486592    0.836071   14.526497    1.102743   \nmin       1.000000    0.000000    1.000000    0.420000    0.000000   \n25%     223.500000    0.000000    2.000000   20.125000    0.000000   \n50%     446.000000    0.000000    3.000000   28.000000    0.000000   \n75%     668.500000    1.000000    3.000000   38.000000    1.000000   \nmax     891.000000    1.000000    3.000000   80.000000    8.000000   \n\n            Parch        Fare  \ncount  891.000000  891.000000  \nmean     0.381594   32.204208  \nstd      0.806057   49.693429  \nmin      0.000000    0.000000  \n25%      0.000000    7.910400  \n50%      0.000000   14.454200  \n75%      0.000000   31.000000  \nmax      6.000000  512.329200  ",
            "text/html": "<div>\n<style scoped>\n    .dataframe tbody tr th:only-of-type {\n        vertical-align: middle;\n    }\n\n    .dataframe tbody tr th {\n        vertical-align: top;\n    }\n\n    .dataframe thead th {\n        text-align: right;\n    }\n</style>\n<table border=\"1\" class=\"dataframe\">\n  <thead>\n    <tr style=\"text-align: right;\">\n      <th></th>\n      <th>PassengerId</th>\n      <th>Survived</th>\n      <th>Pclass</th>\n      <th>Age</th>\n      <th>SibSp</th>\n      <th>Parch</th>\n      <th>Fare</th>\n    </tr>\n  </thead>\n  <tbody>\n    <tr>\n      <th>count</th>\n      <td>891.000000</td>\n      <td>891.000000</td>\n      <td>891.000000</td>\n      <td>714.000000</td>\n      <td>891.000000</td>\n      <td>891.000000</td>\n      <td>891.000000</td>\n    </tr>\n    <tr>\n      <th>mean</th>\n      <td>446.000000</td>\n      <td>0.383838</td>\n      <td>2.308642</td>\n      <td>29.699118</td>\n      <td>0.523008</td>\n      <td>0.381594</td>\n      <td>32.204208</td>\n    </tr>\n    <tr>\n      <th>std</th>\n      <td>257.353842</td>\n      <td>0.486592</td>\n      <td>0.836071</td>\n      <td>14.526497</td>\n      <td>1.102743</td>\n      <td>0.806057</td>\n      <td>49.693429</td>\n    </tr>\n    <tr>\n      <th>min</th>\n      <td>1.000000</td>\n      <td>0.000000</td>\n      <td>1.000000</td>\n      <td>0.420000</td>\n      <td>0.000000</td>\n      <td>0.000000</td>\n      <td>0.000000</td>\n    </tr>\n    <tr>\n      <th>25%</th>\n      <td>223.500000</td>\n      <td>0.000000</td>\n      <td>2.000000</td>\n      <td>20.125000</td>\n      <td>0.000000</td>\n      <td>0.000000</td>\n      <td>7.910400</td>\n    </tr>\n    <tr>\n      <th>50%</th>\n      <td>446.000000</td>\n      <td>0.000000</td>\n      <td>3.000000</td>\n      <td>28.000000</td>\n      <td>0.000000</td>\n      <td>0.000000</td>\n      <td>14.454200</td>\n    </tr>\n    <tr>\n      <th>75%</th>\n      <td>668.500000</td>\n      <td>1.000000</td>\n      <td>3.000000</td>\n      <td>38.000000</td>\n      <td>1.000000</td>\n      <td>0.000000</td>\n      <td>31.000000</td>\n    </tr>\n    <tr>\n      <th>max</th>\n      <td>891.000000</td>\n      <td>1.000000</td>\n      <td>3.000000</td>\n      <td>80.000000</td>\n      <td>8.000000</td>\n      <td>6.000000</td>\n      <td>512.329200</td>\n    </tr>\n  </tbody>\n</table>\n</div>"
          },
          "metadata": {}
        }
      ],
      "execution_count": null
    },
    {
      "cell_type": "code",
      "source": [
        "\n",
        "data.info()"
      ],
      "metadata": {
        "trusted": true,
        "execution": {
          "iopub.status.busy": "2024-12-24T19:39:25.664665Z",
          "iopub.execute_input": "2024-12-24T19:39:25.665021Z",
          "iopub.status.idle": "2024-12-24T19:39:25.687099Z",
          "shell.execute_reply.started": "2024-12-24T19:39:25.664992Z",
          "shell.execute_reply": "2024-12-24T19:39:25.686089Z"
        },
        "id": "fm33GnjoX_t7",
        "outputId": "1b4a25e6-5213-4e79-f62f-54b7d8b7470d"
      },
      "outputs": [
        {
          "name": "stdout",
          "text": "<class 'pandas.core.frame.DataFrame'>\nRangeIndex: 891 entries, 0 to 890\nData columns (total 12 columns):\n #   Column       Non-Null Count  Dtype  \n---  ------       --------------  -----  \n 0   PassengerId  891 non-null    int64  \n 1   Survived     891 non-null    int64  \n 2   Pclass       891 non-null    int64  \n 3   Name         891 non-null    object \n 4   Sex          891 non-null    object \n 5   Age          714 non-null    float64\n 6   SibSp        891 non-null    int64  \n 7   Parch        891 non-null    int64  \n 8   Ticket       891 non-null    object \n 9   Fare         891 non-null    float64\n 10  Cabin        204 non-null    object \n 11  Embarked     889 non-null    object \ndtypes: float64(2), int64(5), object(5)\nmemory usage: 83.7+ KB\n",
          "output_type": "stream"
        }
      ],
      "execution_count": null
    },
    {
      "cell_type": "code",
      "source": [
        "data.shape"
      ],
      "metadata": {
        "trusted": true,
        "execution": {
          "iopub.status.busy": "2024-12-24T19:39:47.109421Z",
          "iopub.execute_input": "2024-12-24T19:39:47.109809Z",
          "iopub.status.idle": "2024-12-24T19:39:47.115544Z",
          "shell.execute_reply.started": "2024-12-24T19:39:47.109776Z",
          "shell.execute_reply": "2024-12-24T19:39:47.114685Z"
        },
        "id": "zUbzHavdX_t8",
        "outputId": "53372df3-782f-40f7-d395-30c3499b1c90"
      },
      "outputs": [
        {
          "execution_count": 18,
          "output_type": "execute_result",
          "data": {
            "text/plain": "(891, 12)"
          },
          "metadata": {}
        }
      ],
      "execution_count": null
    },
    {
      "cell_type": "code",
      "source": [
        "data.info()"
      ],
      "metadata": {
        "trusted": true,
        "execution": {
          "iopub.status.busy": "2024-12-24T19:40:05.298594Z",
          "iopub.execute_input": "2024-12-24T19:40:05.298945Z",
          "iopub.status.idle": "2024-12-24T19:40:05.310471Z",
          "shell.execute_reply.started": "2024-12-24T19:40:05.298916Z",
          "shell.execute_reply": "2024-12-24T19:40:05.309195Z"
        },
        "id": "yVwinx0WX_t-",
        "outputId": "6a72d5a3-2227-4f4c-cc8b-3748a25eb84a"
      },
      "outputs": [
        {
          "name": "stdout",
          "text": "<class 'pandas.core.frame.DataFrame'>\nRangeIndex: 891 entries, 0 to 890\nData columns (total 12 columns):\n #   Column       Non-Null Count  Dtype  \n---  ------       --------------  -----  \n 0   PassengerId  891 non-null    int64  \n 1   Survived     891 non-null    int64  \n 2   Pclass       891 non-null    int64  \n 3   Name         891 non-null    object \n 4   Sex          891 non-null    object \n 5   Age          714 non-null    float64\n 6   SibSp        891 non-null    int64  \n 7   Parch        891 non-null    int64  \n 8   Ticket       891 non-null    object \n 9   Fare         891 non-null    float64\n 10  Cabin        204 non-null    object \n 11  Embarked     889 non-null    object \ndtypes: float64(2), int64(5), object(5)\nmemory usage: 83.7+ KB\n",
          "output_type": "stream"
        }
      ],
      "execution_count": null
    },
    {
      "cell_type": "code",
      "source": [
        "# Visualizing the missing values using heatmap\n",
        "sns.heatmap(data.isnull())"
      ],
      "metadata": {
        "trusted": true,
        "execution": {
          "iopub.status.busy": "2024-12-24T19:40:55.738949Z",
          "iopub.execute_input": "2024-12-24T19:40:55.739337Z",
          "iopub.status.idle": "2024-12-24T19:40:56.276342Z",
          "shell.execute_reply.started": "2024-12-24T19:40:55.739302Z",
          "shell.execute_reply": "2024-12-24T19:40:56.275286Z"
        },
        "id": "NoJox1_vX_t_",
        "outputId": "31520d9c-6a77-4839-df68-429ae35f2d61"
      },
      "outputs": [
        {
          "execution_count": 20,
          "output_type": "execute_result",
          "data": {
            "text/plain": "<Axes: >"
          },
          "metadata": {}
        },
        {
          "output_type": "display_data",
          "data": {
            "text/plain": "<Figure size 640x480 with 2 Axes>",
            "image/png": "[encoded data removed]"
          },
          "metadata": {}
        }
      ],
      "execution_count": null
    },
    {
      "cell_type": "code",
      "source": [
        "# Check for missing values\n",
        "print(\"\\nMissing values:\")\n",
        "print(data.isnull().sum())"
      ],
      "metadata": {
        "trusted": true,
        "execution": {
          "iopub.status.busy": "2024-12-24T19:41:36.849261Z",
          "iopub.execute_input": "2024-12-24T19:41:36.849646Z",
          "iopub.status.idle": "2024-12-24T19:41:36.857033Z",
          "shell.execute_reply.started": "2024-12-24T19:41:36.849614Z",
          "shell.execute_reply": "2024-12-24T19:41:36.855688Z"
        },
        "id": "-ulwotIBX_uA",
        "outputId": "a958a471-df47-47c5-9134-a9513ac9c688"
      },
      "outputs": [
        {
          "name": "stdout",
          "text": "\nMissing values:\nPassengerId      0\nSurvived         0\nPclass           0\nName             0\nSex              0\nAge            177\nSibSp            0\nParch            0\nTicket           0\nFare             0\nCabin          687\nEmbarked         2\ndtype: int64\n",
          "output_type": "stream"
        }
      ],
      "execution_count": null
    },
    {
      "cell_type": "code",
      "source": [
        "ports = pd.get_dummies(data.Embarked, prefix='Embarked', dtype=int)\n",
        "ports.head()"
      ],
      "metadata": {
        "trusted": true,
        "execution": {
          "iopub.status.busy": "2024-12-24T19:42:24.723996Z",
          "iopub.execute_input": "2024-12-24T19:42:24.724436Z",
          "iopub.status.idle": "2024-12-24T19:42:24.734759Z",
          "shell.execute_reply.started": "2024-12-24T19:42:24.724402Z",
          "shell.execute_reply": "2024-12-24T19:42:24.733578Z"
        },
        "id": "DTTl3eOlX_uB",
        "outputId": "985dff5f-56f9-42db-f196-887501988a6e"
      },
      "outputs": [
        {
          "execution_count": 22,
          "output_type": "execute_result",
          "data": {
            "text/plain": "   Embarked_C  Embarked_Q  Embarked_S\n0           0           0           1\n1           1           0           0\n2           0           0           1\n3           0           0           1\n4           0           0           1",
            "text/html": "<div>\n<style scoped>\n    .dataframe tbody tr th:only-of-type {\n        vertical-align: middle;\n    }\n\n    .dataframe tbody tr th {\n        vertical-align: top;\n    }\n\n    .dataframe thead th {\n        text-align: right;\n    }\n</style>\n<table border=\"1\" class=\"dataframe\">\n  <thead>\n    <tr style=\"text-align: right;\">\n      <th></th>\n      <th>Embarked_C</th>\n      <th>Embarked_Q</th>\n      <th>Embarked_S</th>\n    </tr>\n  </thead>\n  <tbody>\n    <tr>\n      <th>0</th>\n      <td>0</td>\n      <td>0</td>\n      <td>1</td>\n    </tr>\n    <tr>\n      <th>1</th>\n      <td>1</td>\n      <td>0</td>\n      <td>0</td>\n    </tr>\n    <tr>\n      <th>2</th>\n      <td>0</td>\n      <td>0</td>\n      <td>1</td>\n    </tr>\n    <tr>\n      <th>3</th>\n      <td>0</td>\n      <td>0</td>\n      <td>1</td>\n    </tr>\n    <tr>\n      <th>4</th>\n      <td>0</td>\n      <td>0</td>\n      <td>1</td>\n    </tr>\n  </tbody>\n</table>\n</div>"
          },
          "metadata": {}
        }
      ],
      "execution_count": null
    },
    {
      "cell_type": "code",
      "source": [
        "data = data.join(ports)"
      ],
      "metadata": {
        "trusted": true,
        "execution": {
          "iopub.status.busy": "2024-12-24T19:43:25.308724Z",
          "iopub.execute_input": "2024-12-24T19:43:25.309072Z",
          "iopub.status.idle": "2024-12-24T19:43:25.320281Z",
          "shell.execute_reply.started": "2024-12-24T19:43:25.309046Z",
          "shell.execute_reply": "2024-12-24T19:43:25.319255Z"
        },
        "id": "7rzHrOPvX_uC"
      },
      "outputs": [],
      "execution_count": null
    },
    {
      "cell_type": "code",
      "source": [
        "data.drop(['Embarked'],axis=1, inplace=True)"
      ],
      "metadata": {
        "trusted": true,
        "execution": {
          "iopub.status.busy": "2024-12-24T19:43:49.538725Z",
          "iopub.execute_input": "2024-12-24T19:43:49.539073Z",
          "iopub.status.idle": "2024-12-24T19:43:49.544708Z",
          "shell.execute_reply.started": "2024-12-24T19:43:49.539046Z",
          "shell.execute_reply": "2024-12-24T19:43:49.543519Z"
        },
        "id": "ODANc6FbX_uC"
      },
      "outputs": [],
      "execution_count": null
    },
    {
      "cell_type": "code",
      "source": [
        "data.head()"
      ],
      "metadata": {
        "trusted": true,
        "execution": {
          "iopub.status.busy": "2024-12-24T19:44:09.2539Z",
          "iopub.execute_input": "2024-12-24T19:44:09.254297Z",
          "iopub.status.idle": "2024-12-24T19:44:09.268054Z",
          "shell.execute_reply.started": "2024-12-24T19:44:09.254263Z",
          "shell.execute_reply": "2024-12-24T19:44:09.266986Z"
        },
        "id": "TeQIQAShX_uD",
        "outputId": "8bd47feb-e36e-487b-dffd-0ac467ad1672"
      },
      "outputs": [
        {
          "execution_count": 25,
          "output_type": "execute_result",
          "data": {
            "text/plain": "   PassengerId  Survived  Pclass  \\\n0            1         0       3   \n1            2         1       1   \n2            3         1       3   \n3            4         1       1   \n4            5         0       3   \n\n                                                Name     Sex   Age  SibSp  \\\n0                            Braund, Mr. Owen Harris    male  22.0      1   \n1  Cumings, Mrs. John Bradley (Florence Briggs Th...  female  38.0      1   \n2                             Heikkinen, Miss. Laina  female  26.0      0   \n3       Futrelle, Mrs. Jacques Heath (Lily May Peel)  female  35.0      1   \n4                           Allen, Mr. William Henry    male  35.0      0   \n\n   Parch            Ticket     Fare Cabin  \n0      0         A/5 21171   7.2500   NaN  \n1      0          PC 17599  71.2833   C85  \n2      0  STON/O2. 3101282   7.9250   NaN  \n3      0            113803  53.1000  C123  \n4      0            373450   8.0500   NaN  ",
            "text/html": "<div>\n<style scoped>\n    .dataframe tbody tr th:only-of-type {\n        vertical-align: middle;\n    }\n\n    .dataframe tbody tr th {\n        vertical-align: top;\n    }\n\n    .dataframe thead th {\n        text-align: right;\n    }\n</style>\n<table border=\"1\" class=\"dataframe\">\n  <thead>\n    <tr style=\"text-align: right;\">\n      <th></th>\n      <th>PassengerId</th>\n      <th>Survived</th>\n      <th>Pclass</th>\n      <th>Name</th>\n      <th>Sex</th>\n      <th>Age</th>\n      <th>SibSp</th>\n      <th>Parch</th>\n      <th>Ticket</th>\n      <th>Fare</th>\n      <th>Cabin</th>\n    </tr>\n  </thead>\n  <tbody>\n    <tr>\n      <th>0</th>\n      <td>1</td>\n      <td>0</td>\n      <td>3</td>\n      <td>Braund, Mr. Owen Harris</td>\n      <td>male</td>\n      <td>22.0</td>\n      <td>1</td>\n      <td>0</td>\n      <td>A/5 21171</td>\n      <td>7.2500</td>\n      <td>NaN</td>\n    </tr>\n    <tr>\n      <th>1</th>\n      <td>2</td>\n      <td>1</td>\n      <td>1</td>\n      <td>Cumings, Mrs. John Bradley (Florence Briggs Th...</td>\n      <td>female</td>\n      <td>38.0</td>\n      <td>1</td>\n      <td>0</td>\n      <td>PC 17599</td>\n      <td>71.2833</td>\n      <td>C85</td>\n    </tr>\n    <tr>\n      <th>2</th>\n      <td>3</td>\n      <td>1</td>\n      <td>3</td>\n      <td>Heikkinen, Miss. Laina</td>\n      <td>female</td>\n      <td>26.0</td>\n      <td>0</td>\n      <td>0</td>\n      <td>STON/O2. 3101282</td>\n      <td>7.9250</td>\n      <td>NaN</td>\n    </tr>\n    <tr>\n      <th>3</th>\n      <td>4</td>\n      <td>1</td>\n      <td>1</td>\n      <td>Futrelle, Mrs. Jacques Heath (Lily May Peel)</td>\n      <td>female</td>\n      <td>35.0</td>\n      <td>1</td>\n      <td>0</td>\n      <td>113803</td>\n      <td>53.1000</td>\n      <td>C123</td>\n    </tr>\n    <tr>\n      <th>4</th>\n      <td>5</td>\n      <td>0</td>\n      <td>3</td>\n      <td>Allen, Mr. William Henry</td>\n      <td>male</td>\n      <td>35.0</td>\n      <td>0</td>\n      <td>0</td>\n      <td>373450</td>\n      <td>8.0500</td>\n      <td>NaN</td>\n    </tr>\n  </tbody>\n</table>\n</div>"
          },
          "metadata": {}
        }
      ],
      "execution_count": null
    },
    {
      "cell_type": "code",
      "source": [
        "# Drop the 'Cabin' column due to many missing values\n",
        "data.drop('Cabin', axis=1, inplace=True)"
      ],
      "metadata": {
        "trusted": true,
        "execution": {
          "iopub.status.busy": "2024-12-24T19:45:30.353855Z",
          "iopub.execute_input": "2024-12-24T19:45:30.354249Z",
          "iopub.status.idle": "2024-12-24T19:45:30.359554Z",
          "shell.execute_reply.started": "2024-12-24T19:45:30.354218Z",
          "shell.execute_reply": "2024-12-24T19:45:30.358424Z"
        },
        "id": "sG8umHaDX_uD"
      },
      "outputs": [],
      "execution_count": null
    },
    {
      "cell_type": "code",
      "source": [
        "data.isnull().sum()"
      ],
      "metadata": {
        "trusted": true,
        "id": "FqySZq4LX_uE"
      },
      "outputs": [],
      "execution_count": null
    },
    {
      "cell_type": "code",
      "source": [
        "# Exploratory Data Analysis (EDA)\n",
        "plt.figure(figsize=(8, 5))\n",
        "sns.countplot(data=data, x='Survived', palette=['#d62728','#2ca02c'])\n",
        "plt.title(\"Survival Count\")\n",
        "plt.show()"
      ],
      "metadata": {
        "trusted": true,
        "execution": {
          "iopub.status.busy": "2024-12-24T19:47:10.64855Z",
          "iopub.execute_input": "2024-12-24T19:47:10.648944Z",
          "iopub.status.idle": "2024-12-24T19:47:10.835946Z",
          "shell.execute_reply.started": "2024-12-24T19:47:10.648913Z",
          "shell.execute_reply": "2024-12-24T19:47:10.834786Z"
        },
        "id": "xtRCVTkLX_uE",
        "outputId": "22e1d3db-7f4e-4c24-d6f0-11c2ced13cd2"
      },
      "outputs": [
        {
          "output_type": "display_data",
          "data": {
            "text/plain": "<Figure size 800x500 with 1 Axes>",
            "image/png": "[encoded data removed]"
          },
          "metadata": {}
        }
      ],
      "execution_count": null
    },
    {
      "cell_type": "code",
      "source": [
        "plt.figure(figsize=(10, 5))\n",
        "sns.countplot(data=data, x='Pclass', hue='Survived', palette=['#006400', '#FFCC00'])\n",
        "plt.title(\"Survival by Passenger Class\")\n",
        "plt.show()"
      ],
      "metadata": {
        "trusted": true,
        "execution": {
          "iopub.status.busy": "2024-12-24T19:47:40.148795Z",
          "iopub.execute_input": "2024-12-24T19:47:40.149169Z",
          "iopub.status.idle": "2024-12-24T19:47:40.407591Z",
          "shell.execute_reply.started": "2024-12-24T19:47:40.149112Z",
          "shell.execute_reply": "2024-12-24T19:47:40.406629Z"
        },
        "id": "1dH0eSbbX_uF",
        "outputId": "18d79d68-942c-4c38-c166-c579ca68e25d"
      },
      "outputs": [
        {
          "output_type": "display_data",
          "data": {
            "text/plain": "<Figure size 1000x500 with 1 Axes>",
            "image/png": "[encoded data removed]"
          },
          "metadata": {}
        }
      ],
      "execution_count": null
    },
    {
      "cell_type": "code",
      "source": [
        "data.Sex=data.Sex.map({'male':0,'female':1})"
      ],
      "metadata": {
        "trusted": true,
        "execution": {
          "iopub.status.busy": "2024-12-24T20:08:55.774521Z",
          "iopub.execute_input": "2024-12-24T20:08:55.774942Z",
          "iopub.status.idle": "2024-12-24T20:08:55.781249Z",
          "shell.execute_reply.started": "2024-12-24T20:08:55.77491Z",
          "shell.execute_reply": "2024-12-24T20:08:55.780098Z"
        },
        "id": "3CHWLwSvX_uF"
      },
      "outputs": [],
      "execution_count": null
    },
    {
      "cell_type": "code",
      "source": [
        "#Splitting the data\n",
        "Y= data.Survived.copy()\n",
        "X= data.drop(['Survived'], axis = 1)"
      ],
      "metadata": {
        "trusted": true,
        "execution": {
          "iopub.status.busy": "2024-12-24T20:09:25.366238Z",
          "iopub.execute_input": "2024-12-24T20:09:25.366614Z",
          "iopub.status.idle": "2024-12-24T20:09:25.37276Z",
          "shell.execute_reply.started": "2024-12-24T20:09:25.366572Z",
          "shell.execute_reply": "2024-12-24T20:09:25.371614Z"
        },
        "id": "DyEY9wPvX_uG"
      },
      "outputs": [],
      "execution_count": null
    },
    {
      "cell_type": "code",
      "source": [
        "X.drop(['Cabin','Ticket', 'Name', 'PassengerId'], axis=1, inplace=True, errors='ignore')\n"
      ],
      "metadata": {
        "trusted": true,
        "execution": {
          "iopub.status.busy": "2024-12-24T20:12:30.523309Z",
          "iopub.execute_input": "2024-12-24T20:12:30.523661Z",
          "iopub.status.idle": "2024-12-24T20:12:30.529245Z",
          "shell.execute_reply.started": "2024-12-24T20:12:30.523632Z",
          "shell.execute_reply": "2024-12-24T20:12:30.528229Z"
        },
        "id": "1odJerONX_uG"
      },
      "outputs": [],
      "execution_count": null
    },
    {
      "cell_type": "code",
      "source": [
        "X.isnull().sum()"
      ],
      "metadata": {
        "trusted": true,
        "execution": {
          "iopub.status.busy": "2024-12-24T20:13:00.973849Z",
          "iopub.execute_input": "2024-12-24T20:13:00.974232Z",
          "iopub.status.idle": "2024-12-24T20:13:00.982462Z",
          "shell.execute_reply.started": "2024-12-24T20:13:00.974196Z",
          "shell.execute_reply": "2024-12-24T20:13:00.981361Z"
        },
        "id": "pdRJcEVzX_uG",
        "outputId": "280e8fbb-15c2-4e2b-aa39-d3268fcf5213"
      },
      "outputs": [
        {
          "execution_count": 51,
          "output_type": "execute_result",
          "data": {
            "text/plain": "Pclass      0\nSex       891\nAge       177\nSibSp       0\nParch       0\nFare        0\ndtype: int64"
          },
          "metadata": {}
        }
      ],
      "execution_count": null
    },
    {
      "cell_type": "code",
      "source": [
        "# As per prior result we have null values in the Age Component, we are replacing the null values with mean\n",
        "X.Age.fillna(X.Age.mean(),inplace=True)"
      ],
      "metadata": {
        "trusted": true,
        "execution": {
          "iopub.status.busy": "2024-12-24T20:13:22.23522Z",
          "iopub.execute_input": "2024-12-24T20:13:22.235561Z",
          "iopub.status.idle": "2024-12-24T20:13:22.241469Z",
          "shell.execute_reply.started": "2024-12-24T20:13:22.235534Z",
          "shell.execute_reply": "2024-12-24T20:13:22.240285Z"
        },
        "id": "RKDjadLSX_uH"
      },
      "outputs": [],
      "execution_count": null
    },
    {
      "cell_type": "code",
      "source": [
        "# Checking any null values present\n",
        "X.isnull().values.any()"
      ],
      "metadata": {
        "trusted": true,
        "execution": {
          "iopub.status.busy": "2024-12-24T20:13:38.972298Z",
          "iopub.execute_input": "2024-12-24T20:13:38.972641Z",
          "iopub.status.idle": "2024-12-24T20:13:38.97925Z",
          "shell.execute_reply.started": "2024-12-24T20:13:38.972611Z",
          "shell.execute_reply": "2024-12-24T20:13:38.978082Z"
        },
        "id": "FJ3I61nKX_uH",
        "outputId": "efa6ec00-8112-47e2-c9f3-43a6e073685b"
      },
      "outputs": [
        {
          "execution_count": 53,
          "output_type": "execute_result",
          "data": {
            "text/plain": "True"
          },
          "metadata": {}
        }
      ],
      "execution_count": null
    },
    {
      "cell_type": "code",
      "source": [
        "#Import libraries for Model buliding\n",
        "from sklearn.model_selection import train_test_split\n",
        "\n",
        "#Spliting the data to train our model and test its accuracy\n",
        "X_train,X_test,Y_train,Y_test = train_test_split(X, Y, test_size = 0.2, random_state=7)"
      ],
      "metadata": {
        "trusted": true,
        "execution": {
          "iopub.status.busy": "2024-12-24T20:14:51.829902Z",
          "iopub.execute_input": "2024-12-24T20:14:51.830314Z",
          "iopub.status.idle": "2024-12-24T20:14:51.83764Z",
          "shell.execute_reply.started": "2024-12-24T20:14:51.830279Z",
          "shell.execute_reply": "2024-12-24T20:14:51.836615Z"
        },
        "id": "KNN_yGAKX_uH"
      },
      "outputs": [],
      "execution_count": null
    },
    {
      "cell_type": "code",
      "source": [
        "#Import Regression libraries for Model buliding\n",
        "from sklearn.linear_model import LogisticRegression\n",
        "\n",
        "#Initialize it to a name\n",
        "model = LogisticRegression()"
      ],
      "metadata": {
        "trusted": true,
        "execution": {
          "iopub.status.busy": "2024-12-24T20:15:07.835533Z",
          "iopub.execute_input": "2024-12-24T20:15:07.835948Z",
          "iopub.status.idle": "2024-12-24T20:15:07.840619Z",
          "shell.execute_reply.started": "2024-12-24T20:15:07.835905Z",
          "shell.execute_reply": "2024-12-24T20:15:07.839183Z"
        },
        "id": "UEAl-_HsX_uI"
      },
      "outputs": [],
      "execution_count": null
    },
    {
      "cell_type": "code",
      "source": [
        "X_train.dropna(inplace=True)\n",
        "Y_train = Y_train[X_train.index]  # Ensure target variable is aligned after dropping rows\n"
      ],
      "metadata": {
        "trusted": true,
        "execution": {
          "iopub.status.busy": "2024-12-24T20:18:04.54487Z",
          "iopub.execute_input": "2024-12-24T20:18:04.545267Z",
          "iopub.status.idle": "2024-12-24T20:18:04.552376Z",
          "shell.execute_reply.started": "2024-12-24T20:18:04.545234Z",
          "shell.execute_reply": "2024-12-24T20:18:04.551343Z"
        },
        "id": "FQHzJDwrX_uI"
      },
      "outputs": [],
      "execution_count": null
    },
    {
      "cell_type": "code",
      "source": [
        "LogisticRegression()\n",
        "In a Jupyter environment, please rerun this cell to show the HTML representation or trust the notebook.\n",
        "On GitHub, the HTML representation is unable to render, please try loading this page with nbviewer.org."
      ],
      "metadata": {
        "trusted": true,
        "id": "2vZqz9VMX_uJ"
      },
      "outputs": [],
      "execution_count": null
    },
    {
      "cell_type": "code",
      "source": [
        "print(X_train.shape)\n",
        "print(Y_train.shape)\n"
      ],
      "metadata": {
        "trusted": true,
        "execution": {
          "iopub.status.busy": "2024-12-24T20:19:35.034917Z",
          "iopub.execute_input": "2024-12-24T20:19:35.035338Z",
          "iopub.status.idle": "2024-12-24T20:19:35.040645Z",
          "shell.execute_reply.started": "2024-12-24T20:19:35.035301Z",
          "shell.execute_reply": "2024-12-24T20:19:35.039547Z"
        },
        "id": "Q0sah4MzX_uJ",
        "outputId": "507b885b-6754-4e08-885f-63044264347f"
      },
      "outputs": [
        {
          "name": "stdout",
          "text": "(0, 6)\n(0,)\n",
          "output_type": "stream"
        }
      ],
      "execution_count": null
    },
    {
      "cell_type": "code",
      "source": [
        "from sklearn.model_selection import train_test_split\n",
        "\n",
        "X_train, X_test, Y_train, Y_test = train_test_split(X, Y, test_size=0.2, random_state=42)\n",
        "\n",
        "print(X_train.shape)\n",
        "print(Y_train.shape)\n"
      ],
      "metadata": {
        "trusted": true,
        "execution": {
          "iopub.status.busy": "2024-12-24T20:20:05.704743Z",
          "iopub.execute_input": "2024-12-24T20:20:05.705149Z",
          "iopub.status.idle": "2024-12-24T20:20:05.7142Z",
          "shell.execute_reply.started": "2024-12-24T20:20:05.705094Z",
          "shell.execute_reply": "2024-12-24T20:20:05.712988Z"
        },
        "id": "RSZV80HnX_uK",
        "outputId": "9f398a1e-ee2c-4a6f-8b72-7b3ffea290ed"
      },
      "outputs": [
        {
          "name": "stdout",
          "text": "(712, 6)\n(712,)\n",
          "output_type": "stream"
        }
      ],
      "execution_count": null
    },
    {
      "cell_type": "code",
      "source": [
        "X_test.dropna(inplace=True)\n",
        "Y_test = Y_test[X_test.index]  # Ensure that the target is aligned after dropping rows\n"
      ],
      "metadata": {
        "trusted": true,
        "execution": {
          "iopub.status.busy": "2024-12-24T20:21:27.770044Z",
          "iopub.execute_input": "2024-12-24T20:21:27.770473Z",
          "iopub.status.idle": "2024-12-24T20:21:27.777278Z",
          "shell.execute_reply.started": "2024-12-24T20:21:27.770438Z",
          "shell.execute_reply": "2024-12-24T20:21:27.776096Z"
        },
        "id": "BS7XnYChX_uK"
      },
      "outputs": [],
      "execution_count": null
    },
    {
      "cell_type": "code",
      "source": [
        "# Predict on the model\n",
        "Y_pred_test= model.predict(X_test)\n",
        "Y_pred_test"
      ],
      "metadata": {
        "trusted": true,
        "execution": {
          "iopub.status.busy": "2024-12-24T20:28:50.22502Z",
          "iopub.execute_input": "2024-12-24T20:28:50.225458Z",
          "iopub.status.idle": "2024-12-24T20:28:50.245809Z",
          "shell.execute_reply.started": "2024-12-24T20:28:50.225419Z",
          "shell.execute_reply": "2024-12-24T20:28:50.244213Z"
        },
        "id": "ACNRoGxAX_uL",
        "outputId": "aeecc658-658d-4669-e263-eee313d29395"
      },
      "outputs": [
        {
          "traceback": [
            "\u001b[0;31m---------------------------------------------------------------------------\u001b[0m",
            "\u001b[0;31mValueError\u001b[0m                                Traceback (most recent call last)",
            "\u001b[0;32m<ipython-input-73-346f0da2f5fc>\u001b[0m in \u001b[0;36m<cell line: 2>\u001b[0;34m()\u001b[0m\n\u001b[1;32m      1\u001b[0m \u001b[0;31m# Predict on the model\u001b[0m\u001b[0;34m\u001b[0m\u001b[0;34m\u001b[0m\u001b[0m\n\u001b[0;32m----> 2\u001b[0;31m \u001b[0mY_pred_test\u001b[0m\u001b[0;34m=\u001b[0m \u001b[0mmodel\u001b[0m\u001b[0;34m.\u001b[0m\u001b[0mpredict\u001b[0m\u001b[0;34m(\u001b[0m\u001b[0mX_test\u001b[0m\u001b[0;34m)\u001b[0m\u001b[0;34m\u001b[0m\u001b[0;34m\u001b[0m\u001b[0m\n\u001b[0m\u001b[1;32m      3\u001b[0m \u001b[0mY_pred_test\u001b[0m\u001b[0;34m\u001b[0m\u001b[0;34m\u001b[0m\u001b[0m\n",
            "\u001b[0;32m/usr/local/lib/python3.10/dist-packages/sklearn/linear_model/_base.py\u001b[0m in \u001b[0;36mpredict\u001b[0;34m(self, X)\u001b[0m\n\u001b[1;32m    417\u001b[0m         \"\"\"\n\u001b[1;32m    418\u001b[0m         \u001b[0mxp\u001b[0m\u001b[0;34m,\u001b[0m \u001b[0m_\u001b[0m \u001b[0;34m=\u001b[0m \u001b[0mget_namespace\u001b[0m\u001b[0;34m(\u001b[0m\u001b[0mX\u001b[0m\u001b[0;34m)\u001b[0m\u001b[0;34m\u001b[0m\u001b[0;34m\u001b[0m\u001b[0m\n\u001b[0;32m--> 419\u001b[0;31m         \u001b[0mscores\u001b[0m \u001b[0;34m=\u001b[0m \u001b[0mself\u001b[0m\u001b[0;34m.\u001b[0m\u001b[0mdecision_function\u001b[0m\u001b[0;34m(\u001b[0m\u001b[0mX\u001b[0m\u001b[0;34m)\u001b[0m\u001b[0;34m\u001b[0m\u001b[0;34m\u001b[0m\u001b[0m\n\u001b[0m\u001b[1;32m    420\u001b[0m         \u001b[0;32mif\u001b[0m \u001b[0mlen\u001b[0m\u001b[0;34m(\u001b[0m\u001b[0mscores\u001b[0m\u001b[0;34m.\u001b[0m\u001b[0mshape\u001b[0m\u001b[0;34m)\u001b[0m \u001b[0;34m==\u001b[0m \u001b[0;36m1\u001b[0m\u001b[0;34m:\u001b[0m\u001b[0;34m\u001b[0m\u001b[0;34m\u001b[0m\u001b[0m\n\u001b[1;32m    421\u001b[0m             \u001b[0mindices\u001b[0m \u001b[0;34m=\u001b[0m \u001b[0mxp\u001b[0m\u001b[0;34m.\u001b[0m\u001b[0mastype\u001b[0m\u001b[0;34m(\u001b[0m\u001b[0mscores\u001b[0m \u001b[0;34m>\u001b[0m \u001b[0;36m0\u001b[0m\u001b[0;34m,\u001b[0m \u001b[0mint\u001b[0m\u001b[0;34m)\u001b[0m\u001b[0;34m\u001b[0m\u001b[0;34m\u001b[0m\u001b[0m\n",
            "\u001b[0;32m/usr/local/lib/python3.10/dist-packages/sklearn/linear_model/_base.py\u001b[0m in \u001b[0;36mdecision_function\u001b[0;34m(self, X)\u001b[0m\n\u001b[1;32m    398\u001b[0m         \u001b[0mxp\u001b[0m\u001b[0;34m,\u001b[0m \u001b[0m_\u001b[0m \u001b[0;34m=\u001b[0m \u001b[0mget_namespace\u001b[0m\u001b[0;34m(\u001b[0m\u001b[0mX\u001b[0m\u001b[0;34m)\u001b[0m\u001b[0;34m\u001b[0m\u001b[0;34m\u001b[0m\u001b[0m\n\u001b[1;32m    399\u001b[0m \u001b[0;34m\u001b[0m\u001b[0m\n\u001b[0;32m--> 400\u001b[0;31m         \u001b[0mX\u001b[0m \u001b[0;34m=\u001b[0m \u001b[0mself\u001b[0m\u001b[0;34m.\u001b[0m\u001b[0m_validate_data\u001b[0m\u001b[0;34m(\u001b[0m\u001b[0mX\u001b[0m\u001b[0;34m,\u001b[0m \u001b[0maccept_sparse\u001b[0m\u001b[0;34m=\u001b[0m\u001b[0;34m\"csr\"\u001b[0m\u001b[0;34m,\u001b[0m \u001b[0mreset\u001b[0m\u001b[0;34m=\u001b[0m\u001b[0;32mFalse\u001b[0m\u001b[0;34m)\u001b[0m\u001b[0;34m\u001b[0m\u001b[0;34m\u001b[0m\u001b[0m\n\u001b[0m\u001b[1;32m    401\u001b[0m         \u001b[0mscores\u001b[0m \u001b[0;34m=\u001b[0m \u001b[0msafe_sparse_dot\u001b[0m\u001b[0;34m(\u001b[0m\u001b[0mX\u001b[0m\u001b[0;34m,\u001b[0m \u001b[0mself\u001b[0m\u001b[0;34m.\u001b[0m\u001b[0mcoef_\u001b[0m\u001b[0;34m.\u001b[0m\u001b[0mT\u001b[0m\u001b[0;34m,\u001b[0m \u001b[0mdense_output\u001b[0m\u001b[0;34m=\u001b[0m\u001b[0;32mTrue\u001b[0m\u001b[0;34m)\u001b[0m \u001b[0;34m+\u001b[0m \u001b[0mself\u001b[0m\u001b[0;34m.\u001b[0m\u001b[0mintercept_\u001b[0m\u001b[0;34m\u001b[0m\u001b[0;34m\u001b[0m\u001b[0m\n\u001b[1;32m    402\u001b[0m         \u001b[0;32mreturn\u001b[0m \u001b[0mxp\u001b[0m\u001b[0;34m.\u001b[0m\u001b[0mreshape\u001b[0m\u001b[0;34m(\u001b[0m\u001b[0mscores\u001b[0m\u001b[0;34m,\u001b[0m \u001b[0;34m-\u001b[0m\u001b[0;36m1\u001b[0m\u001b[0;34m)\u001b[0m \u001b[0;32mif\u001b[0m \u001b[0mscores\u001b[0m\u001b[0;34m.\u001b[0m\u001b[0mshape\u001b[0m\u001b[0;34m[\u001b[0m\u001b[0;36m1\u001b[0m\u001b[0;34m]\u001b[0m \u001b[0;34m==\u001b[0m \u001b[0;36m1\u001b[0m \u001b[0;32melse\u001b[0m \u001b[0mscores\u001b[0m\u001b[0;34m\u001b[0m\u001b[0;34m\u001b[0m\u001b[0m\n",
            "\u001b[0;32m/usr/local/lib/python3.10/dist-packages/sklearn/base.py\u001b[0m in \u001b[0;36m_validate_data\u001b[0;34m(self, X, y, reset, validate_separately, **check_params)\u001b[0m\n\u001b[1;32m    563\u001b[0m             \u001b[0;32mraise\u001b[0m \u001b[0mValueError\u001b[0m\u001b[0;34m(\u001b[0m\u001b[0;34m\"Validation should be done on X, y or both.\"\u001b[0m\u001b[0;34m)\u001b[0m\u001b[0;34m\u001b[0m\u001b[0;34m\u001b[0m\u001b[0m\n\u001b[1;32m    564\u001b[0m         \u001b[0;32melif\u001b[0m \u001b[0;32mnot\u001b[0m \u001b[0mno_val_X\u001b[0m \u001b[0;32mand\u001b[0m \u001b[0mno_val_y\u001b[0m\u001b[0;34m:\u001b[0m\u001b[0;34m\u001b[0m\u001b[0;34m\u001b[0m\u001b[0m\n\u001b[0;32m--> 565\u001b[0;31m             \u001b[0mX\u001b[0m \u001b[0;34m=\u001b[0m \u001b[0mcheck_array\u001b[0m\u001b[0;34m(\u001b[0m\u001b[0mX\u001b[0m\u001b[0;34m,\u001b[0m \u001b[0minput_name\u001b[0m\u001b[0;34m=\u001b[0m\u001b[0;34m\"X\"\u001b[0m\u001b[0;34m,\u001b[0m \u001b[0;34m**\u001b[0m\u001b[0mcheck_params\u001b[0m\u001b[0;34m)\u001b[0m\u001b[0;34m\u001b[0m\u001b[0;34m\u001b[0m\u001b[0m\n\u001b[0m\u001b[1;32m    566\u001b[0m             \u001b[0mout\u001b[0m \u001b[0;34m=\u001b[0m \u001b[0mX\u001b[0m\u001b[0;34m\u001b[0m\u001b[0;34m\u001b[0m\u001b[0m\n\u001b[1;32m    567\u001b[0m         \u001b[0;32melif\u001b[0m \u001b[0mno_val_X\u001b[0m \u001b[0;32mand\u001b[0m \u001b[0;32mnot\u001b[0m \u001b[0mno_val_y\u001b[0m\u001b[0;34m:\u001b[0m\u001b[0;34m\u001b[0m\u001b[0;34m\u001b[0m\u001b[0m\n",
            "\u001b[0;32m/usr/local/lib/python3.10/dist-packages/sklearn/utils/validation.py\u001b[0m in \u001b[0;36mcheck_array\u001b[0;34m(array, accept_sparse, accept_large_sparse, dtype, order, copy, force_all_finite, ensure_2d, allow_nd, ensure_min_samples, ensure_min_features, estimator, input_name)\u001b[0m\n\u001b[1;32m    929\u001b[0m         \u001b[0mn_samples\u001b[0m \u001b[0;34m=\u001b[0m \u001b[0m_num_samples\u001b[0m\u001b[0;34m(\u001b[0m\u001b[0marray\u001b[0m\u001b[0;34m)\u001b[0m\u001b[0;34m\u001b[0m\u001b[0;34m\u001b[0m\u001b[0m\n\u001b[1;32m    930\u001b[0m         \u001b[0;32mif\u001b[0m \u001b[0mn_samples\u001b[0m \u001b[0;34m<\u001b[0m \u001b[0mensure_min_samples\u001b[0m\u001b[0;34m:\u001b[0m\u001b[0;34m\u001b[0m\u001b[0;34m\u001b[0m\u001b[0m\n\u001b[0;32m--> 931\u001b[0;31m             raise ValueError(\n\u001b[0m\u001b[1;32m    932\u001b[0m                 \u001b[0;34m\"Found array with %d sample(s) (shape=%s) while a\"\u001b[0m\u001b[0;34m\u001b[0m\u001b[0;34m\u001b[0m\u001b[0m\n\u001b[1;32m    933\u001b[0m                 \u001b[0;34m\" minimum of %d is required%s.\"\u001b[0m\u001b[0;34m\u001b[0m\u001b[0;34m\u001b[0m\u001b[0m\n",
            "\u001b[0;31mValueError\u001b[0m: Found array with 0 sample(s) (shape=(0, 6)) while a minimum of 1 is required by LogisticRegression."
          ],
          "ename": "ValueError",
          "evalue": "Found array with 0 sample(s) (shape=(0, 6)) while a minimum of 1 is required by LogisticRegression.",
          "output_type": "error"
        }
      ],
      "execution_count": null
    },
    {
      "cell_type": "code",
      "source": [
        "# Check the shape of X_test and Y_test\n",
        "print(\"Shape of X_test:\", X_test.shape)  # This should return (n_samples, n_features)\n",
        "print(\"Shape of Y_test:\", Y_test.shape)  # This should match the number of rows in X_test\n"
      ],
      "metadata": {
        "trusted": true,
        "execution": {
          "iopub.status.busy": "2024-12-24T20:30:12.811531Z",
          "iopub.execute_input": "2024-12-24T20:30:12.811884Z",
          "iopub.status.idle": "2024-12-24T20:30:12.818424Z",
          "shell.execute_reply.started": "2024-12-24T20:30:12.811853Z",
          "shell.execute_reply": "2024-12-24T20:30:12.817373Z"
        },
        "id": "Ppiw6jdcX_uM",
        "outputId": "1b2460bd-10b5-4f9c-c496-adec8eba35af"
      },
      "outputs": [
        {
          "name": "stdout",
          "text": "Shape of X_test: (0, 6)\nShape of Y_test: (0,)\n",
          "output_type": "stream"
        }
      ],
      "execution_count": null
    },
    {
      "cell_type": "code",
      "source": [
        "from sklearn.model_selection import train_test_split\n",
        "\n",
        "# Make sure X and Y are properly defined\n",
        "X_train, X_test, Y_train, Y_test = train_test_split(X, Y, test_size=0.2, random_state=42)\n",
        "\n",
        "# Confirm that X_test is not empty\n",
        "print(\"Shape of X_train:\", X_train.shape)\n",
        "print(\"Shape of X_test:\", X_test.shape)\n"
      ],
      "metadata": {
        "trusted": true,
        "execution": {
          "iopub.status.busy": "2024-12-24T20:30:32.269838Z",
          "iopub.execute_input": "2024-12-24T20:30:32.270224Z",
          "iopub.status.idle": "2024-12-24T20:30:32.280285Z",
          "shell.execute_reply.started": "2024-12-24T20:30:32.270191Z",
          "shell.execute_reply": "2024-12-24T20:30:32.27924Z"
        },
        "id": "rCxtf3XUX_uM",
        "outputId": "ee9e8a69-41ca-4e05-8258-07421c7e0064"
      },
      "outputs": [
        {
          "name": "stdout",
          "text": "Shape of X_train: (712, 6)\nShape of X_test: (179, 6)\n",
          "output_type": "stream"
        }
      ],
      "execution_count": null
    },
    {
      "cell_type": "code",
      "source": [
        "# Check for missing values in X_test\n",
        "print(X_test.isnull().sum())  # Shows how many missing values are in each column\n"
      ],
      "metadata": {
        "trusted": true,
        "execution": {
          "iopub.status.busy": "2024-12-24T20:30:46.099898Z",
          "iopub.execute_input": "2024-12-24T20:30:46.100251Z",
          "iopub.status.idle": "2024-12-24T20:30:46.107315Z",
          "shell.execute_reply.started": "2024-12-24T20:30:46.100222Z",
          "shell.execute_reply": "2024-12-24T20:30:46.106121Z"
        },
        "id": "jbdJ_LuAX_uM",
        "outputId": "1d6e27f4-1ea6-49a9-ebe5-4b17f1e2ec36"
      },
      "outputs": [
        {
          "name": "stdout",
          "text": "Pclass      0\nSex       179\nAge         0\nSibSp       0\nParch       0\nFare        0\ndtype: int64\n",
          "output_type": "stream"
        }
      ],
      "execution_count": null
    },
    {
      "cell_type": "code",
      "source": [
        "from sklearn.impute import SimpleImpute\n",
        "\n",
        "imputer = SimpleImputer(strategy='mean')  # You can use 'median' or 'most_frequent'\n",
        "X_test = imputer.fit_transform(X_test)\n"
      ],
      "metadata": {
        "trusted": true,
        "execution": {
          "iopub.status.busy": "2024-12-24T20:31:01.894439Z",
          "iopub.execute_input": "2024-12-24T20:31:01.894793Z",
          "iopub.status.idle": "2024-12-24T20:31:01.908093Z",
          "shell.execute_reply.started": "2024-12-24T20:31:01.894762Z",
          "shell.execute_reply": "2024-12-24T20:31:01.90694Z"
        },
        "id": "m_nvjdSpX_uT"
      },
      "outputs": [],
      "execution_count": null
    },
    {
      "cell_type": "code",
      "source": [
        "\n",
        "import pandas as pd\n",
        "\n",
        "# Example of creating a DataFrame\n",
        "X = pd.DataFrame({\n",
        "    'Age': [25, 30, None, 40, None]  # 'None' values to represent missing data\n",
        "})\n",
        "\n",
        "# Now fill missing values in the 'Age' column with the mean\n",
        "X['Age'].fillna(X['Age'].mean(), inplace=True)\n",
        "\n",
        "print(X)\n"
      ],
      "metadata": {
        "trusted": true,
        "execution": {
          "iopub.status.busy": "2024-12-25T09:32:40.567334Z",
          "iopub.execute_input": "2024-12-25T09:32:40.567693Z",
          "iopub.status.idle": "2024-12-25T09:32:41.043734Z",
          "shell.execute_reply.started": "2024-12-25T09:32:40.567666Z",
          "shell.execute_reply": "2024-12-25T09:32:41.042602Z"
        },
        "id": "bkIiiJ1JX_ud",
        "outputId": "b175a3a4-5aa7-43f1-c3e6-3f0475a61ec4"
      },
      "outputs": [
        {
          "name": "stdout",
          "text": "         Age\n0  25.000000\n1  30.000000\n2  31.666667\n3  40.000000\n4  31.666667\n",
          "output_type": "stream"
        }
      ],
      "execution_count": null
    },
    {
      "cell_type": "code",
      "source": [
        "\n",
        "# Checking any null values present\n",
        "X.isnull().values.any()"
      ],
      "metadata": {
        "trusted": true,
        "execution": {
          "iopub.status.busy": "2024-12-25T09:33:35.897769Z",
          "iopub.execute_input": "2024-12-25T09:33:35.898368Z",
          "iopub.status.idle": "2024-12-25T09:33:35.90703Z",
          "shell.execute_reply.started": "2024-12-25T09:33:35.898336Z",
          "shell.execute_reply": "2024-12-25T09:33:35.905779Z"
        },
        "id": "7ugrrvEUX_ud",
        "outputId": "f9111838-a239-4494-b82e-6dd9f079a34e"
      },
      "outputs": [
        {
          "execution_count": 4,
          "output_type": "execute_result",
          "data": {
            "text/plain": "False"
          },
          "metadata": {}
        }
      ],
      "execution_count": null
    },
    {
      "cell_type": "code",
      "source": [
        "import pandas as pd\n",
        "from sklearn.model_selection import train_test_split\n",
        "\n",
        "# Example DataFrame\n",
        "df = pd.DataFrame({\n",
        "    'Age': [25, 30, 35, 40, 45],\n",
        "    'Salary': [50000, 60000, 70000, 80000, 90000],\n",
        "    'Purchased': [1, 0, 1, 0, 1]  # Target variable (Y)\n",
        "})\n",
        "\n",
        "# Define X (features) and Y (target)\n",
        "X = df[['Age', 'Salary']]  # Selecting 'Age' and 'Salary' as features\n",
        "Y = df['Purchased']  # Selecting 'Purchased' as the target variable\n",
        "\n",
        "# Now, split the data into training and testing sets\n",
        "X_train, X_test, Y_train, Y_test = train_test_split(X, Y, test_size=0.2, random_state=7)\n",
        "\n",
        "# Check the resulting splits\n",
        "print(X_train)\n",
        "print(Y_train)\n"
      ],
      "metadata": {
        "trusted": true,
        "execution": {
          "iopub.status.busy": "2024-12-25T09:34:52.537095Z",
          "iopub.execute_input": "2024-12-25T09:34:52.537432Z",
          "iopub.status.idle": "2024-12-25T09:34:52.562902Z",
          "shell.execute_reply.started": "2024-12-25T09:34:52.537408Z",
          "shell.execute_reply": "2024-12-25T09:34:52.561407Z"
        },
        "id": "uCVJax69X_ue",
        "outputId": "aa854efb-1bfd-41a4-e8d4-353d595bfa3e"
      },
      "outputs": [
        {
          "name": "stdout",
          "text": "   Age  Salary\n3   40   80000\n2   35   70000\n1   30   60000\n4   45   90000\n3    0\n2    1\n1    0\n4    1\nName: Purchased, dtype: int64\n",
          "output_type": "stream"
        }
      ],
      "execution_count": null
    },
    {
      "cell_type": "code",
      "source": [
        "#Import Regression libraries for Model buliding\n",
        "from sklearn.linear_model import LogisticRegression\n",
        "\n",
        "#Initialize it to a name\n",
        "model = LogisticRegression()"
      ],
      "metadata": {
        "trusted": true,
        "execution": {
          "iopub.status.busy": "2024-12-25T09:35:18.416993Z",
          "iopub.execute_input": "2024-12-25T09:35:18.417412Z",
          "iopub.status.idle": "2024-12-25T09:35:18.521698Z",
          "shell.execute_reply.started": "2024-12-25T09:35:18.417384Z",
          "shell.execute_reply": "2024-12-25T09:35:18.520578Z"
        },
        "id": "bNlgHD8iX_ue"
      },
      "outputs": [],
      "execution_count": null
    },
    {
      "cell_type": "code",
      "source": [
        "#Fitting our data to the model\n",
        "model.fit(X_train,Y_train)"
      ],
      "metadata": {
        "trusted": true,
        "execution": {
          "iopub.status.busy": "2024-12-25T09:35:43.387205Z",
          "iopub.execute_input": "2024-12-25T09:35:43.387627Z",
          "iopub.status.idle": "2024-12-25T09:35:43.41759Z",
          "shell.execute_reply.started": "2024-12-25T09:35:43.387595Z",
          "shell.execute_reply": "2024-12-25T09:35:43.416468Z"
        },
        "id": "QMHjlSfnX_ue",
        "outputId": "9a12aa67-e2e2-43fd-aa65-da4d04936a75"
      },
      "outputs": [
        {
          "execution_count": 8,
          "output_type": "execute_result",
          "data": {
            "text/plain": "LogisticRegression()",
            "text/html": "<style>#sk-container-id-1 {color: black;background-color: white;}#sk-container-id-1 pre{padding: 0;}#sk-container-id-1 div.sk-toggleable {background-color: white;}#sk-container-id-1 label.sk-toggleable__label {cursor: pointer;display: block;width: 100%;margin-bottom: 0;padding: 0.3em;box-sizing: border-box;text-align: center;}#sk-container-id-1 label.sk-toggleable__label-arrow:before {content: \"▸\";float: left;margin-right: 0.25em;color: #696969;}#sk-container-id-1 label.sk-toggleable__label-arrow:hover:before {color: black;}#sk-container-id-1 div.sk-estimator:hover label.sk-toggleable__label-arrow:before {color: black;}#sk-container-id-1 div.sk-toggleable__content {max-height: 0;max-width: 0;overflow: hidden;text-align: left;background-color: #f0f8ff;}#sk-container-id-1 div.sk-toggleable__content pre {margin: 0.2em;color: black;border-radius: 0.25em;background-color: #f0f8ff;}#sk-container-id-1 input.sk-toggleable__control:checked~div.sk-toggleable__content {max-height: 200px;max-width: 100%;overflow: auto;}#sk-container-id-1 input.sk-toggleable__control:checked~label.sk-toggleable__label-arrow:before {content: \"▾\";}#sk-container-id-1 div.sk-estimator input.sk-toggleable__control:checked~label.sk-toggleable__label {background-color: #d4ebff;}#sk-container-id-1 div.sk-label input.sk-toggleable__control:checked~label.sk-toggleable__label {background-color: #d4ebff;}#sk-container-id-1 input.sk-hidden--visually {border: 0;clip: rect(1px 1px 1px 1px);clip: rect(1px, 1px, 1px, 1px);height: 1px;margin: -1px;overflow: hidden;padding: 0;position: absolute;width: 1px;}#sk-container-id-1 div.sk-estimator {font-family: monospace;background-color: #f0f8ff;border: 1px dotted black;border-radius: 0.25em;box-sizing: border-box;margin-bottom: 0.5em;}#sk-container-id-1 div.sk-estimator:hover {background-color: #d4ebff;}#sk-container-id-1 div.sk-parallel-item::after {content: \"\";width: 100%;border-bottom: 1px solid gray;flex-grow: 1;}#sk-container-id-1 div.sk-label:hover label.sk-toggleable__label {background-color: #d4ebff;}#sk-container-id-1 div.sk-serial::before {content: \"\";position: absolute;border-left: 1px solid gray;box-sizing: border-box;top: 0;bottom: 0;left: 50%;z-index: 0;}#sk-container-id-1 div.sk-serial {display: flex;flex-direction: column;align-items: center;background-color: white;padding-right: 0.2em;padding-left: 0.2em;position: relative;}#sk-container-id-1 div.sk-item {position: relative;z-index: 1;}#sk-container-id-1 div.sk-parallel {display: flex;align-items: stretch;justify-content: center;background-color: white;position: relative;}#sk-container-id-1 div.sk-item::before, #sk-container-id-1 div.sk-parallel-item::before {content: \"\";position: absolute;border-left: 1px solid gray;box-sizing: border-box;top: 0;bottom: 0;left: 50%;z-index: -1;}#sk-container-id-1 div.sk-parallel-item {display: flex;flex-direction: column;z-index: 1;position: relative;background-color: white;}#sk-container-id-1 div.sk-parallel-item:first-child::after {align-self: flex-end;width: 50%;}#sk-container-id-1 div.sk-parallel-item:last-child::after {align-self: flex-start;width: 50%;}#sk-container-id-1 div.sk-parallel-item:only-child::after {width: 0;}#sk-container-id-1 div.sk-dashed-wrapped {border: 1px dashed gray;margin: 0 0.4em 0.5em 0.4em;box-sizing: border-box;padding-bottom: 0.4em;background-color: white;}#sk-container-id-1 div.sk-label label {font-family: monospace;font-weight: bold;display: inline-block;line-height: 1.2em;}#sk-container-id-1 div.sk-label-container {text-align: center;}#sk-container-id-1 div.sk-container {/* jupyter's `normalize.less` sets `[hidden] { display: none; }` but bootstrap.min.css set `[hidden] { display: none !important; }` so we also need the `!important` here to be able to override the default hidden behavior on the sphinx rendered scikit-learn.org. See: https://github.com/scikit-learn/scikit-learn/issues/21755 */display: inline-block !important;position: relative;}#sk-container-id-1 div.sk-text-repr-fallback {display: none;}</style><div id=\"sk-container-id-1\" class=\"sk-top-container\"><div class=\"sk-text-repr-fallback\"><pre>LogisticRegression()</pre><b>In a Jupyter environment, please rerun this cell to show the HTML representation or trust the notebook. <br />On GitHub, the HTML representation is unable to render, please try loading this page with nbviewer.org.</b></div><div class=\"sk-container\" hidden><div class=\"sk-item\"><div class=\"sk-estimator sk-toggleable\"><input class=\"sk-toggleable__control sk-hidden--visually\" id=\"sk-estimator-id-1\" type=\"checkbox\" checked><label for=\"sk-estimator-id-1\" class=\"sk-toggleable__label sk-toggleable__label-arrow\">LogisticRegression</label><div class=\"sk-toggleable__content\"><pre>LogisticRegression()</pre></div></div></div></div></div>"
          },
          "metadata": {}
        }
      ],
      "execution_count": null
    },
    {
      "cell_type": "code",
      "source": [
        "In a Jupyter environment, please rerun this cell to show the HTML representation or trust the notebook.\n",
        "On GitHub, the HTML representation is unable to render, please try loading this page with nbviewer.org."
      ],
      "metadata": {
        "trusted": true,
        "id": "lkTj58BTX_uf"
      },
      "outputs": [],
      "execution_count": null
    },
    {
      "cell_type": "code",
      "source": [
        "model.score(X_train,Y_train)"
      ],
      "metadata": {
        "trusted": true,
        "execution": {
          "iopub.status.busy": "2024-12-25T09:36:41.4841Z",
          "iopub.execute_input": "2024-12-25T09:36:41.484641Z",
          "iopub.status.idle": "2024-12-25T09:36:41.495962Z",
          "shell.execute_reply.started": "2024-12-25T09:36:41.484598Z",
          "shell.execute_reply": "2024-12-25T09:36:41.494344Z"
        },
        "id": "muEWSI7kX_uf",
        "outputId": "951de152-250f-4fce-a7d4-b92639eb8309"
      },
      "outputs": [
        {
          "execution_count": 9,
          "output_type": "execute_result",
          "data": {
            "text/plain": "0.5"
          },
          "metadata": {}
        }
      ],
      "execution_count": null
    },
    {
      "cell_type": "code",
      "source": [
        "# Predict on the model\n",
        "Y_pred_test= model.predict(X_test)\n",
        "Y_pred_test"
      ],
      "metadata": {
        "trusted": true,
        "execution": {
          "iopub.status.busy": "2024-12-25T09:36:59.196518Z",
          "iopub.execute_input": "2024-12-25T09:36:59.196884Z",
          "iopub.status.idle": "2024-12-25T09:36:59.205321Z",
          "shell.execute_reply.started": "2024-12-25T09:36:59.19686Z",
          "shell.execute_reply": "2024-12-25T09:36:59.204253Z"
        },
        "id": "GaKhsKQBX_uh",
        "outputId": "744ee437-407f-4e29-9118-2088bf0be7b7"
      },
      "outputs": [
        {
          "execution_count": 10,
          "output_type": "execute_result",
          "data": {
            "text/plain": "array([1])"
          },
          "metadata": {}
        }
      ],
      "execution_count": null
    },
    {
      "cell_type": "code",
      "source": [
        "#Import Metrics to Check Accuracy\n",
        "from sklearn.metrics import accuracy_score\n",
        "print('Model accuracy score: {0:0.4f}'. format(accuracy_score(Y_test, Y_pred_test)))"
      ],
      "metadata": {
        "trusted": true,
        "execution": {
          "iopub.status.busy": "2024-12-25T09:37:24.436643Z",
          "iopub.execute_input": "2024-12-25T09:37:24.437146Z",
          "iopub.status.idle": "2024-12-25T09:37:24.445843Z",
          "shell.execute_reply.started": "2024-12-25T09:37:24.437111Z",
          "shell.execute_reply": "2024-12-25T09:37:24.444453Z"
        },
        "id": "NSnecTVoX_ui",
        "outputId": "5e52be20-c03b-424b-f70d-27038bb38be4"
      },
      "outputs": [
        {
          "name": "stdout",
          "text": "Model accuracy score: 1.0000\n",
          "output_type": "stream"
        }
      ],
      "execution_count": null
    },
    {
      "cell_type": "code",
      "source": [
        "submission = pd.DataFrame({\n",
        "    'PassengerId': test_passenger_ids,\n",
        "    'Survived': test_predictions\n",
        "})\n",
        "submission.to_csv('submission.csv', index=False)\n",
        "print(\"Submission file created.\")\n"
      ],
      "metadata": {
        "trusted": true,
        "execution": {
          "iopub.status.busy": "2024-12-25T14:52:04.497636Z",
          "iopub.execute_input": "2024-12-25T14:52:04.498119Z",
          "iopub.status.idle": "2024-12-25T14:52:04.508767Z",
          "shell.execute_reply.started": "2024-12-25T14:52:04.498074Z",
          "shell.execute_reply": "2024-12-25T14:52:04.507434Z"
        },
        "id": "E3_GbwhpX_uj",
        "outputId": "089049c9-c061-4d2d-cfbf-dab669f83eb1"
      },
      "outputs": [
        {
          "traceback": [
            "\u001b[0;31m---------------------------------------------------------------------------\u001b[0m",
            "\u001b[0;31mNameError\u001b[0m                                 Traceback (most recent call last)",
            "\u001b[0;32m<ipython-input-6-461c1762e0fa>\u001b[0m in \u001b[0;36m<cell line: 1>\u001b[0;34m()\u001b[0m\n\u001b[0;32m----> 1\u001b[0;31m submission = pd.DataFrame({\n\u001b[0m\u001b[1;32m      2\u001b[0m     \u001b[0;34m'PassengerId'\u001b[0m\u001b[0;34m:\u001b[0m \u001b[0mtest_passenger_ids\u001b[0m\u001b[0;34m,\u001b[0m\u001b[0;34m\u001b[0m\u001b[0;34m\u001b[0m\u001b[0m\n\u001b[1;32m      3\u001b[0m     \u001b[0;34m'Survived'\u001b[0m\u001b[0;34m:\u001b[0m \u001b[0mtest_predictions\u001b[0m\u001b[0;34m\u001b[0m\u001b[0;34m\u001b[0m\u001b[0m\n\u001b[1;32m      4\u001b[0m })\n\u001b[1;32m      5\u001b[0m \u001b[0msubmission\u001b[0m\u001b[0;34m.\u001b[0m\u001b[0mto_csv\u001b[0m\u001b[0;34m(\u001b[0m\u001b[0;34m'submission.csv'\u001b[0m\u001b[0;34m,\u001b[0m \u001b[0mindex\u001b[0m\u001b[0;34m=\u001b[0m\u001b[0;32mFalse\u001b[0m\u001b[0;34m)\u001b[0m\u001b[0;34m\u001b[0m\u001b[0;34m\u001b[0m\u001b[0m\n",
            "\u001b[0;31mNameError\u001b[0m: name 'pd' is not defined"
          ],
          "ename": "NameError",
          "evalue": "name 'pd' is not defined",
          "output_type": "error"
        }
      ],
      "execution_count": null
    },
    {
      "cell_type": "code",
      "source": [
        "import pandas as pd\n"
      ],
      "metadata": {
        "trusted": true,
        "execution": {
          "iopub.status.busy": "2024-12-25T14:53:19.617369Z",
          "iopub.execute_input": "2024-12-25T14:53:19.617729Z",
          "iopub.status.idle": "2024-12-25T14:53:19.991965Z",
          "shell.execute_reply.started": "2024-12-25T14:53:19.617698Z",
          "shell.execute_reply": "2024-12-25T14:53:19.990643Z"
        },
        "id": "MJvrFjOiX_uj"
      },
      "outputs": [],
      "execution_count": null
    },
    {
      "cell_type": "code",
      "source": [
        "submission = pd.DataFrame({\n",
        "    'PassengerId': test_passenger_ids,\n",
        "    'Survived': test_predictions\n",
        "})\n",
        "submission.to_csv('submission.csv', index=False)\n",
        "print(\"Submission file created successfully.\")\n"
      ],
      "metadata": {
        "trusted": true,
        "id": "uRpkCxVLX_uk"
      },
      "outputs": [],
      "execution_count": null
    }
  ]
}